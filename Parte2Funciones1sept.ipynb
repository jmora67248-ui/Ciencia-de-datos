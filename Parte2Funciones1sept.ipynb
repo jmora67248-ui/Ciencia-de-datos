{
  "nbformat": 4,
  "nbformat_minor": 0,
  "metadata": {
    "colab": {
      "provenance": [],
      "include_colab_link": true
    },
    "kernelspec": {
      "name": "python3",
      "display_name": "Python 3"
    },
    "language_info": {
      "name": "python"
    }
  },
  "cells": [
    {
      "cell_type": "markdown",
      "metadata": {
        "id": "view-in-github",
        "colab_type": "text"
      },
      "source": [
        "<a href=\"https://colab.research.google.com/github/jmora67248-ui/Ciencia-de-datos/blob/main/Parte2Funciones1sept.ipynb\" target=\"_parent\"><img src=\"https://colab.research.google.com/assets/colab-badge.svg\" alt=\"Open In Colab\"/></a>"
      ]
    },
    {
      "cell_type": "markdown",
      "source": [
        "## Parte 2: Estructuras de Repetición\n"
      ],
      "metadata": {
        "id": "xrdnnTvEq_uZ"
      }
    },
    {
      "cell_type": "code",
      "source": [
        "#1. Imprimir números del 1 al 10\n",
        "def ejercicio_repeticion_1():\n",
        "    print(\"Números del 1 al 10:\")\n",
        "    for i in range(1, 11):\n",
        "        print(i)\n",
        "\n",
        "ejercicio_repeticion_1()"
      ],
      "metadata": {
        "id": "Vpnt1-Jrq-ZD",
        "colab": {
          "base_uri": "https://localhost:8080/"
        },
        "outputId": "88f8063c-0671-456d-c74f-5dc81e2fa239"
      },
      "execution_count": 1,
      "outputs": [
        {
          "output_type": "stream",
          "name": "stdout",
          "text": [
            "Números del 1 al 10:\n",
            "1\n",
            "2\n",
            "3\n",
            "4\n",
            "5\n",
            "6\n",
            "7\n",
            "8\n",
            "9\n",
            "10\n"
          ]
        }
      ]
    },
    {
      "cell_type": "code",
      "source": [
        "#2. Sumar números del 1 al 100\n",
        "def ejercicio_repeticion_2():\n",
        "    suma = 0\n",
        "    for i in range(1, 101):\n",
        "        suma += i\n",
        "    print(f\"La suma de los números del 1 al 100 es: {suma}\")\n",
        "\n",
        "ejercicio_repeticion_2()\n"
      ],
      "metadata": {
        "id": "yFRhtq__rFqR"
      },
      "execution_count": null,
      "outputs": []
    },
    {
      "cell_type": "code",
      "source": [
        "#3. Múltiplos de 3 entre 1 y 30\n",
        "def ejercicio_repeticion_3():\n",
        "    print(\"Múltiplos de 3 entre 1 y 30:\")\n",
        "    for i in range(3, 31, 3):\n",
        "        print(i)\n",
        "\n",
        "ejercicio_repeticion_3()"
      ],
      "metadata": {
        "id": "H7seTLDzrK-p"
      },
      "execution_count": null,
      "outputs": []
    },
    {
      "cell_type": "code",
      "source": [
        "#4. Tabla de multiplicar\n",
        "def ejercicio_repeticion_4(num):\n",
        "    numero =num\n",
        "    print(f\"Tabla de multiplicar del {numero}:\")\n",
        "    for i in range(1, 11):\n",
        "        print(f\"{numero} x {i} = {numero * i}\")\n",
        "\n",
        "ejercicio_repeticion_4(7)"
      ],
      "metadata": {
        "id": "QiZFsVHirMzh",
        "colab": {
          "base_uri": "https://localhost:8080/"
        },
        "outputId": "57d9f8d6-5e36-45b7-b765-7624323a5371"
      },
      "execution_count": 6,
      "outputs": [
        {
          "output_type": "stream",
          "name": "stdout",
          "text": [
            "Tabla de multiplicar del 7:\n",
            "7 x 1 = 7\n",
            "7 x 2 = 14\n",
            "7 x 3 = 21\n",
            "7 x 4 = 28\n",
            "7 x 5 = 35\n",
            "7 x 6 = 42\n",
            "7 x 7 = 49\n",
            "7 x 8 = 56\n",
            "7 x 9 = 63\n",
            "7 x 10 = 70\n"
          ]
        }
      ]
    },
    {
      "cell_type": "code",
      "source": [
        "# 5. Promedio de varios números\n",
        "def ejercicio_repeticion_5(*numeros):\n",
        "    suma = sum(numeros)  # Usa la función sum() para sumar todos los números\n",
        "    promedio = suma / len(numeros)  # len() para contar los números\n",
        "    print(f\"El promedio es: {promedio}\")\n",
        "\n",
        "# Llamas a la función con los números deseados\n",
        "ejercicio_repeticion_5(10, 10, 10, 10, 50)\n"
      ],
      "metadata": {
        "id": "VLE88-BCrXvQ",
        "colab": {
          "base_uri": "https://localhost:8080/"
        },
        "outputId": "ddc32239-5674-49cc-ebc8-d10099c832cc"
      },
      "execution_count": 13,
      "outputs": [
        {
          "output_type": "stream",
          "name": "stdout",
          "text": [
            "El promedio es: 18.0\n"
          ]
        }
      ]
    },
    {
      "cell_type": "code",
      "source": [
        "#6. Contar números pares\n",
        "def ejercicio_repeticion_6(lim):\n",
        "    limite = lim\n",
        "    contador_pares = 0\n",
        "\n",
        "    for i in range(1, limite + 1):\n",
        "        if i % 2 == 0:\n",
        "            contador_pares += 1\n",
        "\n",
        "    print(f\"Hay {contador_pares} números pares entre 1 y {limite}\")\n",
        "\n",
        "ejercicio_repeticion_6(100)"
      ],
      "metadata": {
        "id": "MU-XqgiRrZpY",
        "colab": {
          "base_uri": "https://localhost:8080/"
        },
        "outputId": "fee2e18a-4748-4002-c376-e7546ef88cca"
      },
      "execution_count": 16,
      "outputs": [
        {
          "output_type": "stream",
          "name": "stdout",
          "text": [
            "Hay 50 números pares entre 1 y 100\n"
          ]
        }
      ]
    },
    {
      "cell_type": "code",
      "source": [
        "# 7. Validar contraseña con apellido\n",
        "def ejercicio_repeticion_7():\n",
        "    apellido = input(\"Ingresa tu apellido: \")\n",
        "    contraseña_correcta = apellido + str(len(apellido))\n",
        "\n",
        "    while True:\n",
        "        contraseña = input(\"Ingresa la contraseña: \")\n",
        "        if contraseña == contraseña_correcta:\n",
        "            print(\"¡Contraseña correcta!\")\n",
        "            break\n",
        "        else:\n",
        "            print(\"Contraseña incorrecta. Intenta de nuevo.\")\n",
        "\n",
        "ejercicio_repeticion_7()\n"
      ],
      "metadata": {
        "id": "O3TpVQnZrc5R",
        "colab": {
          "base_uri": "https://localhost:8080/"
        },
        "outputId": "01c6f9ec-df32-40db-d592-205a64c151e3"
      },
      "execution_count": 17,
      "outputs": [
        {
          "output_type": "stream",
          "name": "stdout",
          "text": [
            "Ingresa tu apellido: mora\n",
            "Ingresa la contraseña: mora\n",
            "Contraseña incorrecta. Intenta de nuevo.\n",
            "Ingresa la contraseña: mora4\n",
            "¡Contraseña correcta!\n"
          ]
        }
      ]
    },
    {
      "cell_type": "code",
      "source": [
        "#8. Serie de Fibonacci\n",
        "def ejercicio_repeticion_8():\n",
        "    n = int(input(\"¿Cuántos números de Fibonacci quieres ver? \"))\n",
        "\n",
        "    if n <= 0:\n",
        "        print(\"Ingresa un número positivo\")\n",
        "    elif n == 1:\n",
        "        print(\"0\")\n",
        "    else:\n",
        "        a, b = 0, 1\n",
        "        print(\"Serie de Fibonacci:\")\n",
        "        print(a)\n",
        "        print(b)\n",
        "\n",
        "        for i in range(2, n):\n",
        "            c = a + b\n",
        "            print(c)\n",
        "            a, b = b, c\n",
        "\n",
        "ejercicio_repeticion_8()"
      ],
      "metadata": {
        "id": "h_y2R7HQrfCg",
        "colab": {
          "base_uri": "https://localhost:8080/"
        },
        "outputId": "96f8b6fe-9110-44d4-e022-d119eea78f41"
      },
      "execution_count": 18,
      "outputs": [
        {
          "output_type": "stream",
          "name": "stdout",
          "text": [
            "¿Cuántos números de Fibonacci quieres ver? 25\n",
            "Serie de Fibonacci:\n",
            "0\n",
            "1\n",
            "1\n",
            "2\n",
            "3\n",
            "5\n",
            "8\n",
            "13\n",
            "21\n",
            "34\n",
            "55\n",
            "89\n",
            "144\n",
            "233\n",
            "377\n",
            "610\n",
            "987\n",
            "1597\n",
            "2584\n",
            "4181\n",
            "6765\n",
            "10946\n",
            "17711\n",
            "28657\n",
            "46368\n"
          ]
        }
      ]
    },
    {
      "cell_type": "code",
      "source": [
        "# 9. Verificar si un número es primo\n",
        "def ejercicio_repeticion_9(num):\n",
        "    numero = num\n",
        "\n",
        "    if numero < 2:\n",
        "        print(f\"{numero} no es primo\")\n",
        "    else:\n",
        "        es_primo = True\n",
        "        for i in range(2, int(numero ** 0.5) + 1):\n",
        "            if numero % i == 0:\n",
        "                es_primo = False\n",
        "                break\n",
        "\n",
        "        if es_primo:\n",
        "            print(f\"{numero} es primo\")\n",
        "        else:\n",
        "            print(f\"{numero} no es primo\")\n",
        "\n",
        "ejercicio_repeticion_9(50)\n"
      ],
      "metadata": {
        "id": "TRMsRZ1fr1zp",
        "colab": {
          "base_uri": "https://localhost:8080/"
        },
        "outputId": "f920c2dc-f82c-4862-ea0d-a7a0ac804005"
      },
      "execution_count": 19,
      "outputs": [
        {
          "output_type": "stream",
          "name": "stdout",
          "text": [
            "50 no es primo\n"
          ]
        }
      ]
    },
    {
      "cell_type": "code",
      "source": [
        "# 10. Contar positivos, negativos y ceros\n",
        "def ejercicio_repeticion_10():\n",
        "    cantidad = int(input(\"¿Cuántos números vas a ingresar? \"))\n",
        "    positivos = negativos = ceros = 0\n",
        "\n",
        "    for i in range(cantidad):\n",
        "        numero = float(input(f\"Ingresa el número {i+1}: \"))\n",
        "\n",
        "        if numero > 0:\n",
        "            positivos += 1\n",
        "        elif numero < 0:\n",
        "            negativos += 1\n",
        "        else:\n",
        "            ceros += 1\n",
        "\n",
        "    print(f\"Positivos: {positivos}\")\n",
        "    print(f\"Negativos: {negativos}\")\n",
        "    print(f\"Ceros: {ceros}\")\n",
        "\n",
        "ejercicio_repeticion_10()"
      ],
      "metadata": {
        "id": "ydn7Koq5r-L4",
        "colab": {
          "base_uri": "https://localhost:8080/"
        },
        "outputId": "ea8f35c6-c282-49e4-a7fd-8fba33156aa2"
      },
      "execution_count": 26,
      "outputs": [
        {
          "output_type": "stream",
          "name": "stdout",
          "text": [
            "¿Cuántos números vas a ingresar? 3\n",
            "Ingresa el número 1: 4\n",
            "Ingresa el número 2: 5\n",
            "Ingresa el número 3: 7\n",
            "Positivos: 3\n",
            "Negativos: 0\n",
            "Ceros: 0\n"
          ]
        }
      ]
    }
  ]
}
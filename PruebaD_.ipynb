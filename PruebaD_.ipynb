{
  "nbformat": 4,
  "nbformat_minor": 0,
  "metadata": {
    "colab": {
      "provenance": [],
      "include_colab_link": true
    },
    "kernelspec": {
      "name": "python3",
      "display_name": "Python 3"
    },
    "language_info": {
      "name": "python"
    }
  },
  "cells": [
    {
      "cell_type": "markdown",
      "metadata": {
        "id": "view-in-github",
        "colab_type": "text"
      },
      "source": [
        "<a href=\"https://colab.research.google.com/github/jmora67248-ui/Ciencia-de-datos/blob/main/PruebaD_.ipynb\" target=\"_parent\"><img src=\"https://colab.research.google.com/assets/colab-badge.svg\" alt=\"Open In Colab\"/></a>"
      ]
    },
    {
      "cell_type": "markdown",
      "source": [
        "## Parte 1: Estructuras de Decisión\n",
        "\n"
      ],
      "metadata": {
        "id": "rHzO2LByqabC"
      }
    },
    {
      "cell_type": "code",
      "source": [
        "#1. Programa que indica si un número es positivo\n",
        "def ejercicio_1():\n",
        "    numero = float(input(\"Ingresa un número: \"))\n",
        "    if numero > 0:\n",
        "        print(f\"El número {numero} es positivo\")\n",
        "    else:\n",
        "        print(f\"El número {numero} no es positivo\")\n",
        "\n",
        "ejercicio_1()"
      ],
      "metadata": {
        "colab": {
          "base_uri": "https://localhost:8080/"
        },
        "id": "466bCJeYqTOa",
        "outputId": "221c618e-1f80-45da-b1f6-db9b1ccda771"
      },
      "execution_count": null,
      "outputs": [
        {
          "output_type": "stream",
          "name": "stdout",
          "text": [
            "Ingresa un número: 25\n",
            "El número 25.0 es positivo\n"
          ]
        }
      ]
    },
    {
      "cell_type": "code",
      "source": [
        "# 2. Programa que determina si una persona es mayor de edad\n",
        "def ejercicio_2():\n",
        "    edad = int(input(\"Ingresa tu edad: \"))\n",
        "    if edad >= 18:\n",
        "        print(\"Eres mayor de edad\")\n",
        "    else:\n",
        "        print(\"Eres menor de edad\")\n",
        "\n",
        "ejercicio_2()\n"
      ],
      "metadata": {
        "id": "V6zuXutFqb3s"
      },
      "execution_count": null,
      "outputs": []
    },
    {
      "cell_type": "code",
      "source": [
        "# 3. Programa que imprime el mayor de dos números\n",
        "def ejercicio_3():\n",
        "    num1 = float(input(\"Ingresa el primer número: \"))\n",
        "    num2 = float(input(\"Ingresa el segundo número: \"))\n",
        "\n",
        "    if num1 > num2:\n",
        "        print(f\"El mayor es: {num1}\")\n",
        "    elif num2 > num1:\n",
        "        print(f\"El mayor es: {num2}\")\n",
        "    else:\n",
        "        print(\"Los números son iguales\")\n",
        "\n",
        "ejercicio_3()"
      ],
      "metadata": {
        "id": "8F1KsYqlqhKR"
      },
      "execution_count": null,
      "outputs": []
    },
    {
      "cell_type": "code",
      "source": [
        "# 4. Programa que determina si una calificación es aprobada o reprobada\n",
        "def ejercicio_4():\n",
        "    calificacion = float(input(\"Ingresa la calificación (0-100): \"))\n",
        "\n",
        "    if calificacion >= 60:\n",
        "        print(\"Aprobado\")\n",
        "    else:\n",
        "        print(\"Reprobado\")\n",
        "\n",
        "ejercicio_4()"
      ],
      "metadata": {
        "id": "IfuAF0Exqiwp"
      },
      "execution_count": null,
      "outputs": []
    },
    {
      "cell_type": "code",
      "source": [
        "#5. Programa que determina si un número es par o impar\n",
        "def ejercicio_5():\n",
        "    numero = int(input(\"Ingresa un número: \"))\n",
        "\n",
        "    if numero % 2 == 0:\n",
        "        print(f\"El número {numero} es par\")\n",
        "    else:\n",
        "        print(f\"El número {numero} es impar\")\n",
        "\n",
        "ejercicio_5()"
      ],
      "metadata": {
        "id": "qrUq4rIwqktx"
      },
      "execution_count": null,
      "outputs": []
    },
    {
      "cell_type": "code",
      "source": [
        "# 6. Programa que imprime el mayor de tres números\n",
        "def ejercicio_6():\n",
        "    num1 = float(input(\"Ingresa el primer número: \"))\n",
        "    num2 = float(input(\"Ingresa el segundo número: \"))\n",
        "    num3 = float(input(\"Ingresa el tercer número: \"))\n",
        "\n",
        "    if num1 >= num2 and num1 >= num3:\n",
        "        print(f\"El mayor es: {num1}\")\n",
        "    elif num2 >= num1 and num2 >= num3:\n",
        "        print(f\"El mayor es: {num2}\")\n",
        "    else:\n",
        "        print(f\"El mayor es: {num3}\")\n",
        "\n",
        "ejercicio_6()"
      ],
      "metadata": {
        "colab": {
          "base_uri": "https://localhost:8080/"
        },
        "id": "QEozbY2dqmUh",
        "outputId": "98a948f0-2b28-41a7-b300-a579cc4ea361"
      },
      "execution_count": null,
      "outputs": [
        {
          "output_type": "stream",
          "name": "stdout",
          "text": [
            "Ingresa el primer número: 2\n",
            "Ingresa el segundo número: 56\n",
            "Ingresa el tercer número: 14\n",
            "El mayor es: 56.0\n"
          ]
        }
      ]
    },
    {
      "cell_type": "code",
      "source": [
        "# 7. Programa que determina si un año es bisiesto\n",
        "def ejercicio_7():\n",
        "    año = int(input(\"Ingresa un año: \"))\n",
        "\n",
        "    if (año % 4 == 0 and año % 100 != 0) or (año % 400 == 0):\n",
        "        print(f\"El año {año} es bisiesto\")\n",
        "    else:\n",
        "        print(f\"El año {año} no es bisiesto\")\n",
        "\n",
        "ejercicio_7()"
      ],
      "metadata": {
        "id": "-dcXTLddqvzp"
      },
      "execution_count": null,
      "outputs": []
    },
    {
      "cell_type": "code",
      "source": [
        "#8. Programa que valida una contraseña\n",
        "def ejercicio_8():\n",
        "    contraseña = input(\"Ingresa una contraseña: \")\n",
        "\n",
        "    tiene_8_chars = len(contraseña) > 8\n",
        "    tiene_numero = any(c.isdigit() for c in contraseña)\n",
        "    tiene_mayuscula = any(c.isupper() for c in contraseña)\n",
        "\n",
        "    if tiene_8_chars and tiene_numero and tiene_mayuscula:\n",
        "        print(\"La contraseña cumple con todos los requisitos\")\n",
        "    else:\n",
        "        print(\"La contraseña NO cumple con los requisitos:\")\n",
        "        if not tiene_8_chars:\n",
        "            print(\"- Debe tener más de 8 caracteres\")\n",
        "        if not tiene_numero:\n",
        "            print(\"- Debe contener al menos un número\")\n",
        "        if not tiene_mayuscula:\n",
        "            print(\"- Debe contener al menos una letra mayúscula\")\n",
        "\n",
        "ejercicio_8()"
      ],
      "metadata": {
        "id": "IAFg6bRPq01x",
        "colab": {
          "base_uri": "https://localhost:8080/"
        },
        "outputId": "0c74a3a9-03b6-43b1-cfbb-36f6549a0fa2"
      },
      "execution_count": null,
      "outputs": [
        {
          "output_type": "stream",
          "name": "stdout",
          "text": [
            "Ingresa una contraseña: 321546897\n",
            "La contraseña NO cumple con los requisitos:\n",
            "- Debe contener al menos una letra mayúscula\n"
          ]
        }
      ]
    },
    {
      "cell_type": "code",
      "source": [
        "#9. Programa FizzBuzz\n",
        "def ejercicio_9():\n",
        "    numero = int(input(\"Ingresa un número: \"))\n",
        "\n",
        "    if numero % 3 == 0 and numero % 5 == 0:\n",
        "        print(\"FizzBuzz\")\n",
        "    elif numero % 3 == 0:\n",
        "        print(\"Fizz\")\n",
        "    elif numero % 5 == 0:\n",
        "        print(\"Buzz\")\n",
        "    else:\n",
        "        print(numero)\n",
        "\n",
        "ejercicio_9()"
      ],
      "metadata": {
        "id": "Cvqm9XGFq5KR"
      },
      "execution_count": null,
      "outputs": []
    },
    {
      "cell_type": "code",
      "source": [
        "#10. Simulador de cajero automático\n",
        "def ejercicio_10():\n",
        "    saldo_disponible = 1000  # Saldo inicial de ejemplo\n",
        "    print(f\"Saldo disponible: ${saldo_disponible}\")\n",
        "\n",
        "    monto_retiro = float(input(\"Ingresa el monto a retirar: $\"))\n",
        "\n",
        "    if monto_retiro <= saldo_disponible:\n",
        "        nuevo_saldo = saldo_disponible - monto_retiro\n",
        "        print(f\"Operación exitosa. Nuevo saldo: ${nuevo_saldo}\")\n",
        "    else:\n",
        "        print(\"Saldo insuficiente. Operación no realizada.\")\n",
        "\n",
        "ejercicio_10()"
      ],
      "metadata": {
        "id": "QyIcxqf0q88Z"
      },
      "execution_count": null,
      "outputs": []
    },
    {
      "cell_type": "markdown",
      "source": [
        "## Parte 2: Estructuras de Repetición\n"
      ],
      "metadata": {
        "id": "xrdnnTvEq_uZ"
      }
    },
    {
      "cell_type": "code",
      "source": [
        "#1. Imprimir números del 1 al 10\n",
        "def ejercicio_repeticion_1():\n",
        "    print(\"Números del 1 al 10:\")\n",
        "    for i in range(1, 11):\n",
        "        print(i)\n",
        "\n",
        "ejercicio_repeticion_1()"
      ],
      "metadata": {
        "id": "Vpnt1-Jrq-ZD",
        "colab": {
          "base_uri": "https://localhost:8080/"
        },
        "outputId": "583c8823-58bc-46e0-d099-58bcd6fed55b"
      },
      "execution_count": null,
      "outputs": [
        {
          "output_type": "stream",
          "name": "stdout",
          "text": [
            "Números del 1 al 10:\n",
            "1\n",
            "2\n",
            "3\n",
            "4\n",
            "5\n",
            "6\n",
            "7\n",
            "8\n",
            "9\n",
            "10\n"
          ]
        }
      ]
    },
    {
      "cell_type": "code",
      "source": [
        "#2. Sumar números del 1 al 100\n",
        "def ejercicio_repeticion_2():\n",
        "    suma = 0\n",
        "    for i in range(1, 101):\n",
        "        suma += i\n",
        "    print(f\"La suma de los números del 1 al 100 es: {suma}\")\n",
        "\n",
        "ejercicio_repeticion_2()\n"
      ],
      "metadata": {
        "id": "yFRhtq__rFqR"
      },
      "execution_count": null,
      "outputs": []
    },
    {
      "cell_type": "code",
      "source": [
        "#3. Múltiplos de 3 entre 1 y 30\n",
        "def ejercicio_repeticion_3():\n",
        "    print(\"Múltiplos de 3 entre 1 y 30:\")\n",
        "    for i in range(3, 31, 3):\n",
        "        print(i)\n",
        "\n",
        "ejercicio_repeticion_3()"
      ],
      "metadata": {
        "id": "H7seTLDzrK-p"
      },
      "execution_count": null,
      "outputs": []
    },
    {
      "cell_type": "code",
      "source": [
        "#4. Tabla de multiplicar\n",
        "def ejercicio_repeticion_4():\n",
        "    numero = int(input(\"Ingresa un número para su tabla de multiplicar: \"))\n",
        "    print(f\"Tabla de multiplicar del {numero}:\")\n",
        "    for i in range(1, 11):\n",
        "        print(f\"{numero} x {i} = {numero * i}\")\n",
        "\n",
        "ejercicio_repeticion_4()"
      ],
      "metadata": {
        "id": "QiZFsVHirMzh"
      },
      "execution_count": null,
      "outputs": []
    },
    {
      "cell_type": "code",
      "source": [
        "# 5. Promedio de 5 números\n",
        "def ejercicio_repeticion_5():\n",
        "    suma = 0\n",
        "    print(\"Ingresa 5 números:\")\n",
        "    for i in range(5):\n",
        "        numero = float(input(f\"Número {i+1}: \"))\n",
        "        suma += numero\n",
        "\n",
        "    promedio = suma / 5\n",
        "    print(f\"El promedio es: {promedio}\")\n",
        "\n",
        "ejercicio_repeticion_5()\n"
      ],
      "metadata": {
        "id": "VLE88-BCrXvQ"
      },
      "execution_count": null,
      "outputs": []
    },
    {
      "cell_type": "code",
      "source": [
        "#6. Contar números pares\n",
        "def ejercicio_repeticion_6():\n",
        "    limite = int(input(\"Ingresa un número límite: \"))\n",
        "    contador_pares = 0\n",
        "\n",
        "    for i in range(1, limite + 1):\n",
        "        if i % 2 == 0:\n",
        "            contador_pares += 1\n",
        "\n",
        "    print(f\"Hay {contador_pares} números pares entre 1 y {limite}\")\n",
        "\n",
        "ejercicio_repeticion_6()"
      ],
      "metadata": {
        "id": "MU-XqgiRrZpY"
      },
      "execution_count": null,
      "outputs": []
    },
    {
      "cell_type": "code",
      "source": [
        "# 7. Validar contraseña con apellido\n",
        "def ejercicio_repeticion_7():\n",
        "    apellido = input(\"Ingresa tu apellido: \")\n",
        "    contraseña_correcta = apellido + str(len(apellido))\n",
        "\n",
        "    while True:\n",
        "        contraseña = input(\"Ingresa la contraseña: \")\n",
        "        if contraseña == contraseña_correcta:\n",
        "            print(\"¡Contraseña correcta!\")\n",
        "            break\n",
        "        else:\n",
        "            print(\"Contraseña incorrecta. Intenta de nuevo.\")\n",
        "\n",
        "ejercicio_repeticion_7()\n"
      ],
      "metadata": {
        "id": "O3TpVQnZrc5R",
        "colab": {
          "base_uri": "https://localhost:8080/"
        },
        "outputId": "954f49f2-558a-4c1a-cb70-95fb061a2cc2"
      },
      "execution_count": null,
      "outputs": [
        {
          "output_type": "stream",
          "name": "stdout",
          "text": [
            "Ingresa tu apellido: Mora\n",
            "Ingresa la contraseña: mora4\n",
            "Contraseña incorrecta. Intenta de nuevo.\n",
            "Ingresa la contraseña: Mora4\n",
            "¡Contraseña correcta!\n"
          ]
        }
      ]
    },
    {
      "cell_type": "code",
      "source": [
        "#8. Serie de Fibonacci\n",
        "def ejercicio_repeticion_8():\n",
        "    n = int(input(\"¿Cuántos números de Fibonacci quieres ver? \"))\n",
        "\n",
        "    if n <= 0:\n",
        "        print(\"Ingresa un número positivo\")\n",
        "    elif n == 1:\n",
        "        print(\"0\")\n",
        "    else:\n",
        "        a, b = 0, 1\n",
        "        print(\"Serie de Fibonacci:\")\n",
        "        print(a)\n",
        "        print(b)\n",
        "\n",
        "        for i in range(2, n):\n",
        "            c = a + b\n",
        "            print(c)\n",
        "            a, b = b, c\n",
        "\n",
        "ejercicio_repeticion_8()"
      ],
      "metadata": {
        "id": "h_y2R7HQrfCg"
      },
      "execution_count": null,
      "outputs": []
    },
    {
      "cell_type": "code",
      "source": [
        "# 9. Verificar si un número es primo\n",
        "def ejercicio_repeticion_9():\n",
        "    numero = int(input(\"Ingresa un número: \"))\n",
        "\n",
        "    if numero < 2:\n",
        "        print(f\"{numero} no es primo\")\n",
        "    else:\n",
        "        es_primo = True\n",
        "        for i in range(2, int(numero ** 0.5) + 1):\n",
        "            if numero % i == 0:\n",
        "                es_primo = False\n",
        "                break\n",
        "\n",
        "        if es_primo:\n",
        "            print(f\"{numero} es primo\")\n",
        "        else:\n",
        "            print(f\"{numero} no es primo\")\n",
        "\n",
        "ejercicio_repeticion_9()\n"
      ],
      "metadata": {
        "id": "TRMsRZ1fr1zp"
      },
      "execution_count": null,
      "outputs": []
    },
    {
      "cell_type": "code",
      "source": [
        "# 10. Contar positivos, negativos y ceros\n",
        "def ejercicio_repeticion_10():\n",
        "    cantidad = int(input(\"¿Cuántos números vas a ingresar? \"))\n",
        "    positivos = negativos = ceros = 0\n",
        "\n",
        "    for i in range(cantidad):\n",
        "        numero = float(input(f\"Ingresa el número {i+1}: \"))\n",
        "\n",
        "        if numero > 0:\n",
        "            positivos += 1\n",
        "        elif numero < 0:\n",
        "            negativos += 1\n",
        "        else:\n",
        "            ceros += 1\n",
        "\n",
        "    print(f\"Positivos: {positivos}\")\n",
        "    print(f\"Negativos: {negativos}\")\n",
        "    print(f\"Ceros: {ceros}\")\n",
        "\n",
        "# ejercicio_repeticion_10()"
      ],
      "metadata": {
        "id": "ydn7Koq5r-L4"
      },
      "execution_count": null,
      "outputs": []
    },
    {
      "cell_type": "markdown",
      "source": [
        "## Parte 3: Funciones y Tipos de Datos"
      ],
      "metadata": {
        "id": "z0cAHzbXsMSQ"
      }
    },
    {
      "cell_type": "code",
      "source": [
        "### 1. Función que retorna el cuadrado de un número\n",
        "def cuadrado(numero):\n",
        "    print(numero ** 2)\n",
        "\n",
        "\n",
        "cuadrado(50);\n",
        "# Ejemplo de uso:\n",
        "# print(f\"El cuadrado de 5 es: {cuadrado(5)}\")\n"
      ],
      "metadata": {
        "colab": {
          "base_uri": "https://localhost:8080/"
        },
        "id": "74djQDyktZff",
        "outputId": "9d6da561-6939-4f49-f1f9-783ee984fb14"
      },
      "execution_count": null,
      "outputs": [
        {
          "output_type": "stream",
          "name": "stdout",
          "text": [
            "2500\n"
          ]
        }
      ]
    },
    {
      "cell_type": "code",
      "source": [
        "\n",
        "### 2. Función que retorna un saludo personalizado aleatorio\n",
        "import random\n",
        "\n",
        "def saludo_personalizado(nombre):\n",
        "    saludos = [\n",
        "        f\"¡Hola {nombre}! ¿Cómo estás?\",\n",
        "        f\"¡Buenos días, {nombre}!\",\n",
        "        f\"¡Qué gusto verte, {nombre}!\",\n",
        "        f\"¡Saludos cordiales, {nombre}!\",\n",
        "        f\"¡Bienvenido/a, {nombre}!\",\n",
        "        f\"¡Hola {nombre}! Espero que tengas un gran día\",\n",
        "        f\"¡{nombre}! ¡Qué alegría encontrarte!\",\n",
        "        f\"¡Hey {nombre}! ¿Todo bien?\",\n",
        "        f\"¡Estimado/a {nombre}, un placer saludarte!\",\n",
        "        f\"¡{nombre}! ¡Espero que estés genial!\",\n",
        "        f\"¡Hola {nombre}! ¿Cómo va tu día?\",\n",
        "        f\"¡{nombre}! ¡Qué bonito verte por aquí!\",\n",
        "        f\"¡Saludos {nombre}! Que tengas un excelente día\",\n",
        "        f\"¡{nombre}! ¡Siempre es un placer!\",\n",
        "        f\"¡Hola {nombre}! ¿Listo para un gran día?\",\n",
        "        f\"¡{nombre}! ¡Eres increíble!\",\n",
        "        f\"¡Buenos días {nombre}! ¡A brillar!\",\n",
        "        f\"¡Hola {nombre}! ¡Que la fuerza te acompañe!\",\n",
        "        f\"¡{nombre}! ¡El mundo es mejor contigo!\",\n",
        "        f\"¡Hola {nombre}! ¡Que tengas una jornada fantástica!\"\n",
        "    ]\n",
        "    return random.choice(saludos)\n",
        "\n",
        "name= input(\"Ingrense nombre:  \")\n",
        "print(saludo_personalizado(name))"
      ],
      "metadata": {
        "colab": {
          "base_uri": "https://localhost:8080/"
        },
        "id": "sKHCM9RLt_lO",
        "outputId": "88ff807b-b5ad-440b-d407-e3d9daecf0f4"
      },
      "execution_count": null,
      "outputs": [
        {
          "output_type": "stream",
          "name": "stdout",
          "text": [
            "Ingrense nombre:  mor\n",
            "¡mor! ¡Siempre es un placer!\n"
          ]
        }
      ]
    },
    {
      "cell_type": "code",
      "source": [
        "### 3. Función que realiza operaciones básicas\n",
        "def operaciones_basicas(num1, num2):\n",
        "    suma = num1 + num2\n",
        "    resta = num1 - num2\n",
        "    multiplicacion = num1 * num2\n",
        "    division = num1 / num2 if num2 != 0 else \"Error: División por cero\"\n",
        "\n",
        "    return {\n",
        "        'suma': suma,\n",
        "        'resta': resta,\n",
        "        'multiplicacion': multiplicacion,\n",
        "        'division': division\n",
        "    }\n",
        "\n",
        "resultado = operaciones_basicas(10, 5)\n",
        "print(f\"Suma: {resultado['suma']}, Resta: {resultado['resta']}\")\n"
      ],
      "metadata": {
        "colab": {
          "base_uri": "https://localhost:8080/"
        },
        "id": "bA96BKxSvTZt",
        "outputId": "464305dc-d818-4c93-d9b1-42239d4a24e7"
      },
      "execution_count": null,
      "outputs": [
        {
          "output_type": "stream",
          "name": "stdout",
          "text": [
            "Suma: 15, Resta: 5\n"
          ]
        }
      ]
    },
    {
      "cell_type": "code",
      "source": [
        "### 4. Función que determina si es mayor de edad\n",
        "def es_mayor_de_edad(edad):\n",
        "        if edad >= 18:\n",
        "          print(f\"Es mayor de edad\")\n",
        "        elif edad < 18:\n",
        "          print(f\"No es mayor de edad\")\n",
        "\n",
        "\n",
        "es_mayor_de_edad(10);\n"
      ],
      "metadata": {
        "colab": {
          "base_uri": "https://localhost:8080/"
        },
        "id": "xg9Sb9IFvhtN",
        "outputId": "c366ab8c-d8f2-41d0-f045-f170cec993b1"
      },
      "execution_count": null,
      "outputs": [
        {
          "output_type": "stream",
          "name": "stdout",
          "text": [
            "No es mayor de edad\n"
          ]
        }
      ]
    },
    {
      "cell_type": "code",
      "source": [
        "\n",
        "### 5. Función que determina si una palabra es palíndromo\n",
        "def es_palindromo(palabra):\n",
        "    palabra = palabra.lower().replace(\" \", \"\")\n",
        "    return palabra == palabra[::-1]\n",
        "\n",
        "# Ejemplo de uso:\n",
        "es_palindromo('zagaz')"
      ],
      "metadata": {
        "colab": {
          "base_uri": "https://localhost:8080/"
        },
        "id": "iz5U-XbIxED0",
        "outputId": "57a363d2-1bc8-4510-e654-e315c55e4e94"
      },
      "execution_count": null,
      "outputs": [
        {
          "output_type": "execute_result",
          "data": {
            "text/plain": [
              "True"
            ]
          },
          "metadata": {},
          "execution_count": 27
        }
      ]
    },
    {
      "cell_type": "code",
      "source": [
        "### 6. Función que cuenta vocales\n",
        "def contar_vocales(texto):\n",
        "    vocales = \"aeiouAEIOU\"\n",
        "    contador = 0\n",
        "    for caracter in texto:\n",
        "        if caracter in vocales:\n",
        "            contador += 1\n",
        "    return contador\n",
        "\n",
        "print(f\": {contar_vocales('programación')}\")"
      ],
      "metadata": {
        "colab": {
          "base_uri": "https://localhost:8080/"
        },
        "id": "A2LTe2sVyeOy",
        "outputId": "13681058-e0d6-4627-86d0-7ce196a91624"
      },
      "execution_count": null,
      "outputs": [
        {
          "output_type": "stream",
          "name": "stdout",
          "text": [
            "Vocales en 'programación': 4\n"
          ]
        }
      ]
    },
    {
      "cell_type": "code",
      "source": [
        "### 7. Función que suma una lista de números\n",
        "def sumar_lista(numeros):\n",
        "    return sum(numeros)\n",
        "\n",
        "# Ejemplo de uso:\n",
        "lista = [1, 2, 3, 4, 5]\n",
        "print(f\"Suma de la lista: {sumar_lista(lista)}\")"
      ],
      "metadata": {
        "id": "20qTyngyyjpa"
      },
      "execution_count": null,
      "outputs": []
    },
    {
      "cell_type": "code",
      "source": [
        "### 8. Función que retorna mayor y menor de una lista\n",
        "def mayor_menor(lista):\n",
        "    if not lista:\n",
        "        return None, None\n",
        "    return max(lista), min(lista)\n",
        "\n",
        "lista = [3, 1, 4, 1, 5, 9]\n",
        "mayor, menor = mayor_menor(lista)\n",
        "print(f\"Mayor: {mayor}, Menor: {menor}\")\n"
      ],
      "metadata": {
        "colab": {
          "base_uri": "https://localhost:8080/"
        },
        "id": "-G9PgCM3ym56",
        "outputId": "be77fd4c-ef19-4633-d5e3-d26c34955b7c"
      },
      "execution_count": null,
      "outputs": [
        {
          "output_type": "stream",
          "name": "stdout",
          "text": [
            "Mayor: 9, Menor: 1\n"
          ]
        }
      ]
    },
    {
      "cell_type": "code",
      "source": [
        "### 9. Función que invierte una lista\n",
        "def invertir_lista(lista):\n",
        "    return lista[::-1]\n",
        "\n",
        "lista = [1, 2, 3, 4, 5]\n",
        "print(f\"Lista invertida: {invertir_lista(lista)}\")"
      ],
      "metadata": {
        "id": "Ws8ewHulysOi"
      },
      "execution_count": null,
      "outputs": []
    },
    {
      "cell_type": "code",
      "source": [
        "### 10. Función que cuenta nombres que comienzan con vocal\n",
        "def contar_nombres_con_vocal(nombres):\n",
        "    vocales = \"aeiouAEIOU\"\n",
        "    contador = 0\n",
        "    for nombre in nombres:\n",
        "        if nombre and nombre[0] in vocales:\n",
        "            contador += 1\n",
        "    return contador\n",
        "\n",
        "nombres = [\"Ana\", \"Luis\", \"Elena\", \"Oscar\", \"María\"]\n",
        "print(f\"Nombres que comienzan con vocal: {contar_nombres_con_vocal(nombres)}\")"
      ],
      "metadata": {
        "id": "TLcN7qhDy1JC"
      },
      "execution_count": null,
      "outputs": []
    },
    {
      "cell_type": "code",
      "source": [
        "### 11. Función que elimina elementos repetidos\n",
        "def eliminar_repetidos(lista):\n",
        "    return list(set(lista))\n",
        "\n",
        "lista = [1, 2, 2, 3, 3, 3, 4]\n",
        "print(f\"Sin repetidos: {eliminar_repetidos(lista)}\")"
      ],
      "metadata": {
        "id": "yP4xM30Ly4XT"
      },
      "execution_count": null,
      "outputs": []
    },
    {
      "cell_type": "code",
      "source": [
        "### 12. Función que retorna solo números primos de una lista\n",
        "def es_primo_auxiliar(num):\n",
        "    if num < 2:\n",
        "        return False\n",
        "    for i in range(2, int(num ** 0.5) + 1):\n",
        "        if num % i == 0:\n",
        "            return False\n",
        "    return True\n",
        "\n",
        "def numeros_primos(lista):\n",
        "    return [num for num in lista if es_primo_auxiliar(num)]\n",
        "\n",
        "lista = [2, 3, 4, 5, 6, 7, 8, 9, 10, 11]\n",
        "print(f\"Números primos: {numeros_primos(lista)}\")"
      ],
      "metadata": {
        "id": "VM3ByXfqy7I5"
      },
      "execution_count": null,
      "outputs": []
    },
    {
      "cell_type": "code",
      "source": [
        "### 13. Función que procesa diccionario con nombre y edad\n",
        "def mensaje_persona(persona):\n",
        "    nombre = persona.get('nombre', 'Desconocido')\n",
        "    edad = persona.get('edad', 'Desconocida')\n",
        "    return f\"El/La señor/a {nombre} tiene {edad} años\"\n",
        "\n",
        "persona = {'nombre': 'Juan', 'edad': 25}\n",
        "print(mensaje_persona(persona))"
      ],
      "metadata": {
        "id": "LtiE8qzey-01"
      },
      "execution_count": null,
      "outputs": []
    },
    {
      "cell_type": "code",
      "source": [
        "\n",
        "### 14. Función que calcula total de productos\n",
        "def total_productos(productos):\n",
        "    return sum(productos.values())\n",
        "\n",
        "productos = {'manzana': 2.5, 'banana': 1.8, 'naranja': 3.2}\n",
        "print(f\"Total: ${total_productos(productos)}\")"
      ],
      "metadata": {
        "id": "E4RHNS0UzAvb"
      },
      "execution_count": null,
      "outputs": []
    },
    {
      "cell_type": "code",
      "source": [
        "### 15. Función que calcula promedio de estudiantes\n",
        "def promedio_estudiantes(estudiantes):\n",
        "    if not estudiantes:\n",
        "        return 0\n",
        "    return sum(estudiantes.values()) / len(estudiantes)\n",
        "\n",
        "estudiantes = {'Ana': 85, 'Luis': 92, 'María': 78}\n",
        "print(f\"Promedio: {promedio_estudiantes(estudiantes)}\")"
      ],
      "metadata": {
        "id": "6dYEhxqozCcS"
      },
      "execution_count": null,
      "outputs": []
    },
    {
      "cell_type": "code",
      "source": [
        "\n",
        "\n",
        "### 16. Función que busca nota de estudiante\n",
        "def buscar_nota(estudiantes, nombre):\n",
        "    return estudiantes.get(nombre, 'no encontrado')\n",
        "estudiantes = {'Ana': 85, 'Luis': 92, 'María': 78}\n",
        "print(f\"Nota de Ana: {buscar_nota(estudiantes, 'Ana')}\")"
      ],
      "metadata": {
        "id": "PRvUt_X_zFJS"
      },
      "execution_count": null,
      "outputs": []
    },
    {
      "cell_type": "code",
      "source": [
        "### 17. Función que encuentra estudiante con mayor nota\n",
        "def estudiante_mayor_nota(estudiantes):\n",
        "    if not estudiantes:\n",
        "        return 'No hay estudiantes'\n",
        "    return max(estudiantes, key=estudiantes.get)\n",
        "estudiantes = {'Ana': 85, 'Luis': 92, 'María': 78}\n",
        "print(f\"Estudiante con mayor nota: {estudiante_mayor_nota(estudiantes)}\")"
      ],
      "metadata": {
        "id": "xoFHJPwGzGzB"
      },
      "execution_count": null,
      "outputs": []
    },
    {
      "cell_type": "code",
      "source": [
        "\n",
        "### 18. Función que filtra productos por precio\n",
        "def productos_precio_mayor(productos, precio_minimo):\n",
        "    return {producto: precio for producto, precio in productos.items()\n",
        "            if precio > precio_minimo}\n",
        "\n",
        "productos = {'laptop': 800, 'mouse': 25, 'teclado': 60}\n",
        "print(f\"Productos >$50: {productos_precio_mayor(productos, 50)}\")\n"
      ],
      "metadata": {
        "id": "yxABTRRtzMEy"
      },
      "execution_count": null,
      "outputs": []
    },
    {
      "cell_type": "code",
      "source": [
        "### 19. Función que calcula horas totales por empleado\n",
        "def horas_totales_empleado(empleados):\n",
        "    return {empleado: sum(horas) for empleado, horas in empleados.items()}\n",
        "\n",
        "empleados = {'Juan': [8, 7, 8, 6], 'Ana': [9, 8, 7, 8]}\n",
        "print(f\"Horas totales: {horas_totales_empleado(empleados)}\")\n"
      ],
      "metadata": {
        "id": "YdXEJklizNpE"
      },
      "execution_count": null,
      "outputs": []
    },
    {
      "cell_type": "code",
      "execution_count": null,
      "metadata": {
        "id": "mC2fODbGmsOZ"
      },
      "outputs": [],
      "source": [
        "### 20. Función que calcula promedio de mayores de edad\n",
        "def promedio_mayores_edad(estudiantes):\n",
        "    mayores = [datos['nota'] for datos in estudiantes.values()\n",
        "               if datos['edad'] >= 18]\n",
        "\n",
        "    if not mayores:\n",
        "        return 0\n",
        "\n",
        "    return sum(mayores) / len(mayores)\n",
        "\n",
        "estudiantes = {\n",
        "    'Ana': {'nota': 85, 'edad': 20},\n",
        "    'Luis': {'nota': 92, 'edad': 17},\n",
        "    'María': {'nota': 78, 'edad': 19}\n",
        " }\n",
        "print(f\"Promedio de mayores de edad: {promedio_mayores_edad(estudiantes)}\")\n"
      ]
    }
  ]
}
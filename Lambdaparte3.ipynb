{
  "nbformat": 4,
  "nbformat_minor": 0,
  "metadata": {
    "colab": {
      "provenance": [],
      "include_colab_link": true
    },
    "kernelspec": {
      "name": "python3",
      "display_name": "Python 3"
    },
    "language_info": {
      "name": "python"
    }
  },
  "cells": [
    {
      "cell_type": "markdown",
      "metadata": {
        "id": "view-in-github",
        "colab_type": "text"
      },
      "source": [
        "<a href=\"https://colab.research.google.com/github/jmora67248-ui/Ciencia-de-datos/blob/main/Lambdaparte3.ipynb\" target=\"_parent\"><img src=\"https://colab.research.google.com/assets/colab-badge.svg\" alt=\"Open In Colab\"/></a>"
      ]
    },
    {
      "cell_type": "markdown",
      "source": [
        "**Las funciones lambda son una herramienta  en Python para escribir código conciso, pero es crucial saber cuándo usarlas. Son más efectivas para operaciones simples y de una sola línea, mientras que las funciones def son indispensables para una lógica más elaborada, con múltiples pasos o estructuras de control como bucles o condiciones.**"
      ],
      "metadata": {
        "id": "Lqa5493zJnXU"
      }
    },
    {
      "cell_type": "markdown",
      "source": [
        "## Parte 3: Funciones y Tipos de Datos"
      ],
      "metadata": {
        "id": "z0cAHzbXsMSQ"
      }
    },
    {
      "cell_type": "code",
      "source": [
        "# Función lambda:\n",
        "cuadrado_lambda = lambda numero: numero ** 2\n",
        "\n",
        "# Ejemplo de uso:\n",
        "print(f\"El cuadrado de 50 es: {cuadrado_lambda(50)}\")"
      ],
      "metadata": {
        "colab": {
          "base_uri": "https://localhost:8080/"
        },
        "id": "74djQDyktZff",
        "outputId": "1aa3fc78-68fa-4521-ac11-55aa589e77ce"
      },
      "execution_count": 1,
      "outputs": [
        {
          "output_type": "stream",
          "name": "stdout",
          "text": [
            "El cuadrado de 50 es: 2500\n"
          ]
        }
      ]
    },
    {
      "cell_type": "code",
      "source": [
        "\n",
        "### 2. Función que retorna un saludo personalizado aleatorio\n",
        "import random\n",
        "\n",
        "def saludo_personalizado(nombre):\n",
        "    saludos = [\n",
        "        f\"¡Hola {nombre}! ¿Cómo estás?\",\n",
        "        f\"¡Buenos días, {nombre}!\",\n",
        "        f\"¡Qué gusto verte, {nombre}!\",\n",
        "        f\"¡Saludos cordiales, {nombre}!\",\n",
        "        f\"¡Bienvenido/a, {nombre}!\",\n",
        "        f\"¡Hola {nombre}! Espero que tengas un gran día\",\n",
        "        f\"¡{nombre}! ¡Qué alegría encontrarte!\",\n",
        "        f\"¡Hey {nombre}! ¿Todo bien?\",\n",
        "        f\"¡Estimado/a {nombre}, un placer saludarte!\",\n",
        "        f\"¡{nombre}! ¡Espero que estés genial!\",\n",
        "        f\"¡Hola {nombre}! ¿Cómo va tu día?\",\n",
        "        f\"¡{nombre}! ¡Qué bonito verte por aquí!\",\n",
        "        f\"¡Saludos {nombre}! Que tengas un excelente día\",\n",
        "        f\"¡{nombre}! ¡Siempre es un placer!\",\n",
        "        f\"¡Hola {nombre}! ¿Listo para un gran día?\",\n",
        "        f\"¡{nombre}! ¡Eres increíble!\",\n",
        "        f\"¡Buenos días {nombre}! ¡A brillar!\",\n",
        "        f\"¡Hola {nombre}! ¡Que la fuerza te acompañe!\",\n",
        "        f\"¡{nombre}! ¡El mundo es mejor contigo!\",\n",
        "        f\"¡Hola {nombre}! ¡Que tengas una jornada fantástica!\"\n",
        "    ]\n",
        "    return random.choice(saludos)\n",
        "\n",
        "name= input(\"Ingrense nombre:  \")\n",
        "print(saludo_personalizado(name))"
      ],
      "metadata": {
        "colab": {
          "base_uri": "https://localhost:8080/"
        },
        "id": "sKHCM9RLt_lO",
        "outputId": "88ff807b-b5ad-440b-d407-e3d9daecf0f4"
      },
      "execution_count": null,
      "outputs": [
        {
          "output_type": "stream",
          "name": "stdout",
          "text": [
            "Ingrense nombre:  mor\n",
            "¡mor! ¡Siempre es un placer!\n"
          ]
        }
      ]
    },
    {
      "cell_type": "code",
      "source": [
        "### 3. Función que realiza operaciones básicas\n",
        "def operaciones_basicas(num1, num2):\n",
        "    suma = num1 + num2\n",
        "    resta = num1 - num2\n",
        "    multiplicacion = num1 * num2\n",
        "    division = num1 / num2 if num2 != 0 else \"Error: División por cero\"\n",
        "\n",
        "    return {\n",
        "        'suma': suma,\n",
        "        'resta': resta,\n",
        "        'multiplicacion': multiplicacion,\n",
        "        'division': division\n",
        "    }\n",
        "\n",
        "resultado = operaciones_basicas(10, 5)\n",
        "print(f\"Suma: {resultado['suma']}, Resta: {resultado['resta']}\")\n"
      ],
      "metadata": {
        "colab": {
          "base_uri": "https://localhost:8080/"
        },
        "id": "bA96BKxSvTZt",
        "outputId": "464305dc-d818-4c93-d9b1-42239d4a24e7"
      },
      "execution_count": null,
      "outputs": [
        {
          "output_type": "stream",
          "name": "stdout",
          "text": [
            "Suma: 15, Resta: 5\n"
          ]
        }
      ]
    },
    {
      "cell_type": "code",
      "source": [
        "# funcion 4\n",
        "\n",
        "# Función lambda (con operador ternario):\n",
        "es_mayor_de_edad_lambda = lambda edad: \"Es mayor de edad\" if edad >= 18 else \"No es mayor de edad\"\n",
        "\n",
        "# Ejemplo de uso:\n",
        "print(es_mayor_de_edad_lambda(10))"
      ],
      "metadata": {
        "colab": {
          "base_uri": "https://localhost:8080/"
        },
        "id": "xg9Sb9IFvhtN",
        "outputId": "c366ab8c-d8f2-41d0-f045-f170cec993b1"
      },
      "execution_count": null,
      "outputs": [
        {
          "output_type": "stream",
          "name": "stdout",
          "text": [
            "No es mayor de edad\n"
          ]
        }
      ]
    },
    {
      "cell_type": "code",
      "source": [
        "\n",
        "### 5. Función que determina si una palabra es palíndromo\n",
        "# Función lambda:\n",
        "es_palindromo_lambda = lambda palabra: palabra.lower().replace(\" \", \"\") == palabra.lower().replace(\" \", \"\")[::-1]\n",
        "\n",
        "# Ejemplo de uso:\n",
        "print(f\"'zagaz' es palíndromo: {es_palindromo_lambda('zagaz')}\")\n",
        "print(f\"'Python' es palíndromo: {es_palindromo_lambda('Python')}\")"
      ],
      "metadata": {
        "colab": {
          "base_uri": "https://localhost:8080/"
        },
        "id": "iz5U-XbIxED0",
        "outputId": "57a363d2-1bc8-4510-e654-e315c55e4e94"
      },
      "execution_count": null,
      "outputs": [
        {
          "output_type": "execute_result",
          "data": {
            "text/plain": [
              "True"
            ]
          },
          "metadata": {},
          "execution_count": 27
        }
      ]
    },
    {
      "cell_type": "code",
      "source": [
        "### 6. Función que cuenta vocales\n",
        "def contar_vocales(texto):\n",
        "    vocales = \"aeiouAEIOU\"\n",
        "    contador = 0\n",
        "    for caracter in texto:\n",
        "        if caracter in vocales:\n",
        "            contador += 1\n",
        "    return contador\n",
        "\n",
        "print(f\": {contar_vocales('programación')}\")"
      ],
      "metadata": {
        "colab": {
          "base_uri": "https://localhost:8080/"
        },
        "id": "A2LTe2sVyeOy",
        "outputId": "13681058-e0d6-4627-86d0-7ce196a91624"
      },
      "execution_count": null,
      "outputs": [
        {
          "output_type": "stream",
          "name": "stdout",
          "text": [
            "Vocales en 'programación': 4\n"
          ]
        }
      ]
    },
    {
      "cell_type": "code",
      "source": [
        "### 7. Función que suma una lista de números\n",
        "# Función lambda:\n",
        "sumar_lista_lambda = lambda numeros: sum(numeros)\n",
        "\n",
        "# Ejemplo de uso:\n",
        "lista = [1, 2, 3, 4, 5]\n",
        "print(f\"Suma de la lista: {sumar_lista_lambda(lista)}\")"
      ],
      "metadata": {
        "id": "20qTyngyyjpa"
      },
      "execution_count": null,
      "outputs": []
    },
    {
      "cell_type": "code",
      "source": [
        "### 8. Función que retorna mayor y menor de una lista\n",
        "# Función lambda:\n",
        "mayor_menor_lambda = lambda lista: (max(lista), min(lista)) if lista else (None, None)\n",
        "\n",
        "# Ejemplo de uso:\n",
        "lista = [3, 1, 4, 1, 5, 9]\n",
        "mayor, menor = mayor_menor_lambda(lista)\n",
        "print(f\"Mayor: {mayor}, Menor: {menor}\")"
      ],
      "metadata": {
        "colab": {
          "base_uri": "https://localhost:8080/"
        },
        "id": "-G9PgCM3ym56",
        "outputId": "be77fd4c-ef19-4633-d5e3-d26c34955b7c"
      },
      "execution_count": null,
      "outputs": [
        {
          "output_type": "stream",
          "name": "stdout",
          "text": [
            "Mayor: 9, Menor: 1\n"
          ]
        }
      ]
    },
    {
      "cell_type": "code",
      "source": [
        "# Función lambda:\n",
        "invertir_lista_lambda = lambda lista: lista[::-1]\n",
        "\n",
        "# Ejemplo de uso:\n",
        "lista = [1, 2, 3, 4, 5]\n",
        "print(f\"Lista invertida: {invertir_lista_lambda(lista)}\")"
      ],
      "metadata": {
        "id": "Ws8ewHulysOi"
      },
      "execution_count": null,
      "outputs": []
    },
    {
      "cell_type": "code",
      "source": [
        "### 10. Función que cuenta nombres que comienzan con vocal\n",
        "def contar_nombres_con_vocal(nombres):\n",
        "    vocales = \"aeiouAEIOU\"\n",
        "    contador = 0\n",
        "    for nombre in nombres:\n",
        "        if nombre and nombre[0] in vocales:\n",
        "            contador += 1\n",
        "    return contador\n",
        "\n",
        "nombres = [\"Ana\", \"Luis\", \"Elena\", \"Oscar\", \"María\"]\n",
        "print(f\"Nombres que comienzan con vocal: {contar_nombres_con_vocal(nombres)}\")"
      ],
      "metadata": {
        "id": "TLcN7qhDy1JC"
      },
      "execution_count": null,
      "outputs": []
    },
    {
      "cell_type": "code",
      "source": [
        "### 11. Función que elimina elementos repetidos\n",
        "# Función lambda:\n",
        "eliminar_repetidos_lambda = lambda lista: list(set(lista))\n",
        "\n",
        "# Ejemplo de uso:\n",
        "lista = [1, 2, 2, 3, 3, 3, 4]\n",
        "print(f\"Sin repetidos: {eliminar_repetidos_lambda(lista)}\")"
      ],
      "metadata": {
        "id": "yP4xM30Ly4XT"
      },
      "execution_count": null,
      "outputs": []
    },
    {
      "cell_type": "code",
      "source": [
        "### 12. Función que retorna solo números primos de una lista\n",
        "def es_primo_auxiliar(num):\n",
        "    if num < 2:\n",
        "        return False\n",
        "    for i in range(2, int(num ** 0.5) + 1):\n",
        "        if num % i == 0:\n",
        "            return False\n",
        "    return True\n",
        "\n",
        "def numeros_primos(lista):\n",
        "    return [num for num in lista if es_primo_auxiliar(num)]\n",
        "\n",
        "lista = [2, 3, 4, 5, 6, 7, 8, 9, 10, 11]\n",
        "print(f\"Números primos: {numeros_primos(lista)}\")"
      ],
      "metadata": {
        "id": "VM3ByXfqy7I5"
      },
      "execution_count": null,
      "outputs": []
    },
    {
      "cell_type": "code",
      "source": [
        "### 13. Función que procesa diccionario con nombre y edad\n",
        "def mensaje_persona(persona):\n",
        "    nombre = persona.get('nombre', 'Desconocido')\n",
        "    edad = persona.get('edad', 'Desconocida')\n",
        "    return f\"El/La señor/a {nombre} tiene {edad} años\"\n",
        "\n",
        "persona = {'nombre': 'Juan', 'edad': 25}\n",
        "print(mensaje_persona(persona))"
      ],
      "metadata": {
        "id": "LtiE8qzey-01"
      },
      "execution_count": null,
      "outputs": []
    },
    {
      "cell_type": "code",
      "source": [
        "\n",
        "### 14. Función que calcula total de productos\n",
        "# Función lambda:\n",
        "total_productos_lambda = lambda productos: sum(productos.values())\n",
        "\n",
        "# Ejemplo de uso:\n",
        "productos = {'manzana': 2.5, 'banana': 1.8, 'naranja': 3.2}\n",
        "print(f\"Total: ${total_productos_lambda(productos)}\")"
      ],
      "metadata": {
        "id": "E4RHNS0UzAvb"
      },
      "execution_count": null,
      "outputs": []
    },
    {
      "cell_type": "code",
      "source": [
        "### 15. Función que calcula promedio de estudiantes\n",
        "# Función lambda:\n",
        "promedio_estudiantes_lambda = lambda estudiantes: sum(estudiantes.values()) / len(estudiantes) if estudiantes else 0\n",
        "\n",
        "# Ejemplo de uso:\n",
        "estudiantes = {'Ana': 85, 'Luis': 92, 'María': 78}\n",
        "print(f\"Promedio: {promedio_estudiantes_lambda(estudiantes)}\")"
      ],
      "metadata": {
        "id": "6dYEhxqozCcS"
      },
      "execution_count": null,
      "outputs": []
    },
    {
      "cell_type": "code",
      "source": [
        "\n",
        "\n",
        "### 16. Función que busca nota de estudiante\n",
        "# Función lambda:\n",
        "buscar_nota_lambda = lambda estudiantes, nombre: estudiantes.get(nombre, 'no encontrado')\n",
        "\n",
        "# Ejemplo de uso:\n",
        "estudiantes = {'Ana': 85, 'Luis': 92, 'María': 78}\n",
        "print(f\"Nota de Ana: {buscar_nota_lambda(estudiantes, 'Ana')}\")"
      ],
      "metadata": {
        "id": "PRvUt_X_zFJS"
      },
      "execution_count": null,
      "outputs": []
    },
    {
      "cell_type": "code",
      "source": [
        "### 17. Función que encuentra estudiante con mayor nota\n",
        "# Función lambda:\n",
        "estudiante_mayor_nota_lambda = lambda estudiantes: max(estudiantes, key=estudiantes.get) if estudiantes else 'No hay estudiantes'\n",
        "\n",
        "# Ejemplo de uso:\n",
        "estudiantes = {'Ana': 85, 'Luis': 92, 'María': 78}\n",
        "print(f\"Estudiante con mayor nota: {estudiante_mayor_nota_lambda(estudiantes)}\")"
      ],
      "metadata": {
        "id": "xoFHJPwGzGzB"
      },
      "execution_count": null,
      "outputs": []
    },
    {
      "cell_type": "code",
      "source": [
        "\n",
        "### 18. Función que filtra productos por precio\n",
        "def productos_precio_mayor(productos, precio_minimo):\n",
        "    return {producto: precio for producto, precio in productos.items()\n",
        "            if precio > precio_minimo}\n",
        "\n",
        "productos = {'laptop': 800, 'mouse': 25, 'teclado': 60}\n",
        "print(f\"Productos >$50: {productos_precio_mayor(productos, 50)}\")\n"
      ],
      "metadata": {
        "id": "yxABTRRtzMEy"
      },
      "execution_count": null,
      "outputs": []
    },
    {
      "cell_type": "code",
      "source": [
        "### 19. Función que calcula horas totales por empleado\n",
        "def horas_totales_empleado(empleados):\n",
        "    return {empleado: sum(horas) for empleado, horas in empleados.items()}\n",
        "\n",
        "empleados = {'Juan': [8, 7, 8, 6], 'Ana': [9, 8, 7, 8]}\n",
        "print(f\"Horas totales: {horas_totales_empleado(empleados)}\")\n"
      ],
      "metadata": {
        "id": "YdXEJklizNpE"
      },
      "execution_count": null,
      "outputs": []
    },
    {
      "cell_type": "code",
      "execution_count": null,
      "metadata": {
        "id": "mC2fODbGmsOZ"
      },
      "outputs": [],
      "source": [
        "### 20. Función que calcula promedio de mayores de edad\n",
        "def promedio_mayores_edad(estudiantes):\n",
        "    mayores = [datos['nota'] for datos in estudiantes.values()\n",
        "               if datos['edad'] >= 18]\n",
        "\n",
        "    if not mayores:\n",
        "        return 0\n",
        "\n",
        "    return sum(mayores) / len(mayores)\n",
        "\n",
        "estudiantes = {\n",
        "    'Ana': {'nota': 85, 'edad': 20},\n",
        "    'Luis': {'nota': 92, 'edad': 17},\n",
        "    'María': {'nota': 78, 'edad': 19}\n",
        " }\n",
        "print(f\"Promedio de mayores de edad: {promedio_mayores_edad(estudiantes)}\")\n"
      ]
    }
  ]
}
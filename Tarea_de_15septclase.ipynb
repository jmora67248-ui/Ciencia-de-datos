{
  "nbformat": 4,
  "nbformat_minor": 0,
  "metadata": {
    "colab": {
      "provenance": [],
      "include_colab_link": true
    },
    "kernelspec": {
      "name": "python3",
      "display_name": "Python 3"
    },
    "language_info": {
      "name": "python"
    }
  },
  "cells": [
    {
      "cell_type": "markdown",
      "metadata": {
        "id": "view-in-github",
        "colab_type": "text"
      },
      "source": [
        "<a href=\"https://colab.research.google.com/github/jmora67248-ui/Ciencia-de-datos/blob/main/Tarea_de_15septclase.ipynb\" target=\"_parent\"><img src=\"https://colab.research.google.com/assets/colab-badge.svg\" alt=\"Open In Colab\"/></a>"
      ]
    },
    {
      "cell_type": "markdown",
      "source": [
        "# Agenda\n",
        "1. Definir cenceptos\n",
        "2. Cargar datos desde drive\n",
        "3. Calculo de la desviación estándar\n",
        "4. Exploracion de distribucion de datos (graficos)\n"
      ],
      "metadata": {
        "id": "4e-6YBvv5L9b"
      }
    },
    {
      "cell_type": "markdown",
      "source": [
        "##1. Definicion de conceptos\n",
        "1.1 Varianza\n",
        "1..2 Desnviacion estandar\n",
        "1.3 Desviacion de la media absoluta\n",
        "1.4 Desnviacción absoluta mediana de la mediana (MAD)\n",
        "1.5 Rango\n",
        "1.6 Estadistica ordinal\n",
        "1.7 Percentil\n",
        "1.8 Rango intercualtil (IQR)\n"
      ],
      "metadata": {
        "id": "_qQoGXqR5wqu"
      }
    },
    {
      "cell_type": "markdown",
      "source": [
        "##1.1 Varianza\n",
        "Es una medida de dispersión que representa la variabilidad de una serie de datos respecto a su media. Se calcula como la suma de los cuadrados de las desviaciones de cada dato con respecto a la media, dividida por el número total de observaciones.\n",
        "\n",
        "##1.2 Desviación Estándar\n",
        "Indica qué tan dispersos están los datos con respecto a la media. Es simplemente la raíz cuadrada positiva de la Varianza. Un valor bajo sugiere que los datos tienden a estar cerca de la media, mientras que un valor alto indica mayor dispersión.\n",
        "\n",
        "##1.3 Desviación Media Absoluta\n",
        "Mide la dispersión promedio de un conjunto de datos. Se calcula como el promedio de las desviaciones absolutas de cada dato con respecto a la media, ofreciendo una visión directa de la distancia promedio de los puntos al centro de la distribución.\n",
        "\n",
        "##1.4 Desviación Absoluta Mediana (MAD)\n",
        "Es una medida robusta de la variabilidad de los datos, menos sensible a valores atípicos. Representa la mediana de las desviaciones absolutas de cada dato con respecto a la mediana del conjunto, ofreciendo una alternativa estable a la desviación estándar.\n",
        "\n",
        "##1.5 Rango\n",
        "Es la medida de dispersión más simple. Se calcula como la diferencia entre el valor máximo y el valor mínimo en un conjunto de datos. Ofrece una idea rápida de la amplitud total de los datos, aunque es muy sensible a valores extremos.\n",
        "\n",
        "##1.6 Estadística Ordinal\n",
        "Se refiere a estadísticas basadas en el orden de los datos, desde el más pequeño hasta el más grande. Estas métricas, como la mediana o los percentiles, son robustas y no se ven tan afectadas por valores atípicos como las basadas en la media.\n",
        "\n",
        "##1.7 Percentil\n",
        "Es una medida de posición que indica el valor por debajo del cual se encuentra un porcentaje determinado de las observaciones. Por ejemplo, el percentil 80 es el valor que supera al 80% de los datos del conjunto.\n",
        "\n",
        "##1.8 Rango Intercuartílico (IQR)\n",
        "Mide la dispersión del 50% central de los datos. Se calcula como la diferencia entre el tercer cuartil (percentil 75) y el primer cuartil (percentil 25). Es una medida de variabilidad robusta, útil para identificar valores atípicos."
      ],
      "metadata": {
        "id": "OXVj64ErCp2I"
      }
    },
    {
      "cell_type": "code",
      "source": [
        "!pip install statsmodels\n",
        "!pip install wquantiles\n"
      ],
      "metadata": {
        "id": "Uj-gqz1r68gb",
        "colab": {
          "base_uri": "https://localhost:8080/"
        },
        "outputId": "ca862508-6fd7-4a60-9b6d-1d8ef720d0fa"
      },
      "execution_count": 1,
      "outputs": [
        {
          "output_type": "stream",
          "name": "stdout",
          "text": [
            "Requirement already satisfied: statsmodels in /usr/local/lib/python3.12/dist-packages (0.14.5)\n",
            "Requirement already satisfied: numpy<3,>=1.22.3 in /usr/local/lib/python3.12/dist-packages (from statsmodels) (2.0.2)\n",
            "Requirement already satisfied: scipy!=1.9.2,>=1.8 in /usr/local/lib/python3.12/dist-packages (from statsmodels) (1.16.1)\n",
            "Requirement already satisfied: pandas!=2.1.0,>=1.4 in /usr/local/lib/python3.12/dist-packages (from statsmodels) (2.2.2)\n",
            "Requirement already satisfied: patsy>=0.5.6 in /usr/local/lib/python3.12/dist-packages (from statsmodels) (1.0.1)\n",
            "Requirement already satisfied: packaging>=21.3 in /usr/local/lib/python3.12/dist-packages (from statsmodels) (25.0)\n",
            "Requirement already satisfied: python-dateutil>=2.8.2 in /usr/local/lib/python3.12/dist-packages (from pandas!=2.1.0,>=1.4->statsmodels) (2.9.0.post0)\n",
            "Requirement already satisfied: pytz>=2020.1 in /usr/local/lib/python3.12/dist-packages (from pandas!=2.1.0,>=1.4->statsmodels) (2025.2)\n",
            "Requirement already satisfied: tzdata>=2022.7 in /usr/local/lib/python3.12/dist-packages (from pandas!=2.1.0,>=1.4->statsmodels) (2025.2)\n",
            "Requirement already satisfied: six>=1.5 in /usr/local/lib/python3.12/dist-packages (from python-dateutil>=2.8.2->pandas!=2.1.0,>=1.4->statsmodels) (1.17.0)\n",
            "Collecting wquantiles\n",
            "  Downloading wquantiles-0.6-py3-none-any.whl.metadata (1.1 kB)\n",
            "Requirement already satisfied: numpy>=1.18 in /usr/local/lib/python3.12/dist-packages (from wquantiles) (2.0.2)\n",
            "Downloading wquantiles-0.6-py3-none-any.whl (3.3 kB)\n",
            "Installing collected packages: wquantiles\n",
            "Successfully installed wquantiles-0.6\n"
          ]
        }
      ]
    },
    {
      "cell_type": "code",
      "source": [
        "!pip install wquantiles"
      ],
      "metadata": {
        "colab": {
          "base_uri": "https://localhost:8080/"
        },
        "id": "ckn8Luu-_IGs",
        "outputId": "a56e3b73-bd2e-4c26-c5ae-32173118bb0e"
      },
      "execution_count": 2,
      "outputs": [
        {
          "output_type": "stream",
          "name": "stdout",
          "text": [
            "Requirement already satisfied: wquantiles in /usr/local/lib/python3.12/dist-packages (0.6)\n",
            "Requirement already satisfied: numpy>=1.18 in /usr/local/lib/python3.12/dist-packages (from wquantiles) (2.0.2)\n"
          ]
        }
      ]
    },
    {
      "cell_type": "code",
      "execution_count": 3,
      "metadata": {
        "id": "lV_QsUGD2iXR"
      },
      "outputs": [],
      "source": [
        "import pandas as pd\n",
        "import numpy as np\n",
        "import seaborn as sns\n",
        "#from scipy import trim_mean\n",
        "import matplotlib.pyplot as plt\n",
        "from statsmodels import robust\n",
        "import wquantiles\n",
        "from google.colab import files\n",
        "\n"
      ]
    },
    {
      "cell_type": "code",
      "source": [
        "# Subir archivo CSV\n",
        "uploaded = files.upload()\n",
        "filename = list(uploaded.keys())[0]\n",
        "\n",
        "# Leer archivo CSV\n",
        "data  = pd.read_csv(filename)\n",
        "\n"
      ],
      "metadata": {
        "colab": {
          "base_uri": "https://localhost:8080/",
          "height": 73
        },
        "id": "akii0PZJ8d-l",
        "outputId": "b603ed0b-f852-4f41-baf0-3ce8d8d1a1a5"
      },
      "execution_count": 4,
      "outputs": [
        {
          "output_type": "display_data",
          "data": {
            "text/plain": [
              "<IPython.core.display.HTML object>"
            ],
            "text/html": [
              "\n",
              "     <input type=\"file\" id=\"files-62311ab0-24de-488d-886d-f760ffe5b5a0\" name=\"files[]\" multiple disabled\n",
              "        style=\"border:none\" />\n",
              "     <output id=\"result-62311ab0-24de-488d-886d-f760ffe5b5a0\">\n",
              "      Upload widget is only available when the cell has been executed in the\n",
              "      current browser session. Please rerun this cell to enable.\n",
              "      </output>\n",
              "      <script>// Copyright 2017 Google LLC\n",
              "//\n",
              "// Licensed under the Apache License, Version 2.0 (the \"License\");\n",
              "// you may not use this file except in compliance with the License.\n",
              "// You may obtain a copy of the License at\n",
              "//\n",
              "//      http://www.apache.org/licenses/LICENSE-2.0\n",
              "//\n",
              "// Unless required by applicable law or agreed to in writing, software\n",
              "// distributed under the License is distributed on an \"AS IS\" BASIS,\n",
              "// WITHOUT WARRANTIES OR CONDITIONS OF ANY KIND, either express or implied.\n",
              "// See the License for the specific language governing permissions and\n",
              "// limitations under the License.\n",
              "\n",
              "/**\n",
              " * @fileoverview Helpers for google.colab Python module.\n",
              " */\n",
              "(function(scope) {\n",
              "function span(text, styleAttributes = {}) {\n",
              "  const element = document.createElement('span');\n",
              "  element.textContent = text;\n",
              "  for (const key of Object.keys(styleAttributes)) {\n",
              "    element.style[key] = styleAttributes[key];\n",
              "  }\n",
              "  return element;\n",
              "}\n",
              "\n",
              "// Max number of bytes which will be uploaded at a time.\n",
              "const MAX_PAYLOAD_SIZE = 100 * 1024;\n",
              "\n",
              "function _uploadFiles(inputId, outputId) {\n",
              "  const steps = uploadFilesStep(inputId, outputId);\n",
              "  const outputElement = document.getElementById(outputId);\n",
              "  // Cache steps on the outputElement to make it available for the next call\n",
              "  // to uploadFilesContinue from Python.\n",
              "  outputElement.steps = steps;\n",
              "\n",
              "  return _uploadFilesContinue(outputId);\n",
              "}\n",
              "\n",
              "// This is roughly an async generator (not supported in the browser yet),\n",
              "// where there are multiple asynchronous steps and the Python side is going\n",
              "// to poll for completion of each step.\n",
              "// This uses a Promise to block the python side on completion of each step,\n",
              "// then passes the result of the previous step as the input to the next step.\n",
              "function _uploadFilesContinue(outputId) {\n",
              "  const outputElement = document.getElementById(outputId);\n",
              "  const steps = outputElement.steps;\n",
              "\n",
              "  const next = steps.next(outputElement.lastPromiseValue);\n",
              "  return Promise.resolve(next.value.promise).then((value) => {\n",
              "    // Cache the last promise value to make it available to the next\n",
              "    // step of the generator.\n",
              "    outputElement.lastPromiseValue = value;\n",
              "    return next.value.response;\n",
              "  });\n",
              "}\n",
              "\n",
              "/**\n",
              " * Generator function which is called between each async step of the upload\n",
              " * process.\n",
              " * @param {string} inputId Element ID of the input file picker element.\n",
              " * @param {string} outputId Element ID of the output display.\n",
              " * @return {!Iterable<!Object>} Iterable of next steps.\n",
              " */\n",
              "function* uploadFilesStep(inputId, outputId) {\n",
              "  const inputElement = document.getElementById(inputId);\n",
              "  inputElement.disabled = false;\n",
              "\n",
              "  const outputElement = document.getElementById(outputId);\n",
              "  outputElement.innerHTML = '';\n",
              "\n",
              "  const pickedPromise = new Promise((resolve) => {\n",
              "    inputElement.addEventListener('change', (e) => {\n",
              "      resolve(e.target.files);\n",
              "    });\n",
              "  });\n",
              "\n",
              "  const cancel = document.createElement('button');\n",
              "  inputElement.parentElement.appendChild(cancel);\n",
              "  cancel.textContent = 'Cancel upload';\n",
              "  const cancelPromise = new Promise((resolve) => {\n",
              "    cancel.onclick = () => {\n",
              "      resolve(null);\n",
              "    };\n",
              "  });\n",
              "\n",
              "  // Wait for the user to pick the files.\n",
              "  const files = yield {\n",
              "    promise: Promise.race([pickedPromise, cancelPromise]),\n",
              "    response: {\n",
              "      action: 'starting',\n",
              "    }\n",
              "  };\n",
              "\n",
              "  cancel.remove();\n",
              "\n",
              "  // Disable the input element since further picks are not allowed.\n",
              "  inputElement.disabled = true;\n",
              "\n",
              "  if (!files) {\n",
              "    return {\n",
              "      response: {\n",
              "        action: 'complete',\n",
              "      }\n",
              "    };\n",
              "  }\n",
              "\n",
              "  for (const file of files) {\n",
              "    const li = document.createElement('li');\n",
              "    li.append(span(file.name, {fontWeight: 'bold'}));\n",
              "    li.append(span(\n",
              "        `(${file.type || 'n/a'}) - ${file.size} bytes, ` +\n",
              "        `last modified: ${\n",
              "            file.lastModifiedDate ? file.lastModifiedDate.toLocaleDateString() :\n",
              "                                    'n/a'} - `));\n",
              "    const percent = span('0% done');\n",
              "    li.appendChild(percent);\n",
              "\n",
              "    outputElement.appendChild(li);\n",
              "\n",
              "    const fileDataPromise = new Promise((resolve) => {\n",
              "      const reader = new FileReader();\n",
              "      reader.onload = (e) => {\n",
              "        resolve(e.target.result);\n",
              "      };\n",
              "      reader.readAsArrayBuffer(file);\n",
              "    });\n",
              "    // Wait for the data to be ready.\n",
              "    let fileData = yield {\n",
              "      promise: fileDataPromise,\n",
              "      response: {\n",
              "        action: 'continue',\n",
              "      }\n",
              "    };\n",
              "\n",
              "    // Use a chunked sending to avoid message size limits. See b/62115660.\n",
              "    let position = 0;\n",
              "    do {\n",
              "      const length = Math.min(fileData.byteLength - position, MAX_PAYLOAD_SIZE);\n",
              "      const chunk = new Uint8Array(fileData, position, length);\n",
              "      position += length;\n",
              "\n",
              "      const base64 = btoa(String.fromCharCode.apply(null, chunk));\n",
              "      yield {\n",
              "        response: {\n",
              "          action: 'append',\n",
              "          file: file.name,\n",
              "          data: base64,\n",
              "        },\n",
              "      };\n",
              "\n",
              "      let percentDone = fileData.byteLength === 0 ?\n",
              "          100 :\n",
              "          Math.round((position / fileData.byteLength) * 100);\n",
              "      percent.textContent = `${percentDone}% done`;\n",
              "\n",
              "    } while (position < fileData.byteLength);\n",
              "  }\n",
              "\n",
              "  // All done.\n",
              "  yield {\n",
              "    response: {\n",
              "      action: 'complete',\n",
              "    }\n",
              "  };\n",
              "}\n",
              "\n",
              "scope.google = scope.google || {};\n",
              "scope.google.colab = scope.google.colab || {};\n",
              "scope.google.colab._files = {\n",
              "  _uploadFiles,\n",
              "  _uploadFilesContinue,\n",
              "};\n",
              "})(self);\n",
              "</script> "
            ]
          },
          "metadata": {}
        },
        {
          "output_type": "stream",
          "name": "stdout",
          "text": [
            "Saving crocodile_dataset.csv to crocodile_dataset.csv\n"
          ]
        }
      ]
    },
    {
      "cell_type": "code",
      "source": [
        "data.columns"
      ],
      "metadata": {
        "colab": {
          "base_uri": "https://localhost:8080/"
        },
        "id": "5v1QxmKb82E5",
        "outputId": "54a42add-3fe0-4f90-f450-0b3d99dda6cf"
      },
      "execution_count": 5,
      "outputs": [
        {
          "output_type": "execute_result",
          "data": {
            "text/plain": [
              "Index(['Observation ID', 'Common Name', 'Scientific Name', 'Family', 'Genus',\n",
              "       'Observed Length (m)', 'Observed Weight (kg)', 'Age Class', 'Sex',\n",
              "       'Date of Observation', 'Country/Region', 'Habitat Type',\n",
              "       'Conservation Status', 'Observer Name', 'Notes'],\n",
              "      dtype='object')"
            ]
          },
          "metadata": {},
          "execution_count": 5
        }
      ]
    },
    {
      "cell_type": "code",
      "source": [
        "Mayor_longitud= data.groupby([\"Age Class\"])[\"Observed Length (m)\"].max()\n",
        "Mayor_longitud"
      ],
      "metadata": {
        "colab": {
          "base_uri": "https://localhost:8080/",
          "height": 241
        },
        "id": "nNSbpQtm8n7r",
        "outputId": "30b56094-6d50-4205-cd69-4dbbd9a4f748"
      },
      "execution_count": 8,
      "outputs": [
        {
          "output_type": "execute_result",
          "data": {
            "text/plain": [
              "Age Class\n",
              "Adult        6.12\n",
              "Hatchling    0.82\n",
              "Juvenile     3.65\n",
              "Subadult     5.10\n",
              "Name: Observed Length (m), dtype: float64"
            ],
            "text/html": [
              "<div>\n",
              "<style scoped>\n",
              "    .dataframe tbody tr th:only-of-type {\n",
              "        vertical-align: middle;\n",
              "    }\n",
              "\n",
              "    .dataframe tbody tr th {\n",
              "        vertical-align: top;\n",
              "    }\n",
              "\n",
              "    .dataframe thead th {\n",
              "        text-align: right;\n",
              "    }\n",
              "</style>\n",
              "<table border=\"1\" class=\"dataframe\">\n",
              "  <thead>\n",
              "    <tr style=\"text-align: right;\">\n",
              "      <th></th>\n",
              "      <th>Observed Length (m)</th>\n",
              "    </tr>\n",
              "    <tr>\n",
              "      <th>Age Class</th>\n",
              "      <th></th>\n",
              "    </tr>\n",
              "  </thead>\n",
              "  <tbody>\n",
              "    <tr>\n",
              "      <th>Adult</th>\n",
              "      <td>6.12</td>\n",
              "    </tr>\n",
              "    <tr>\n",
              "      <th>Hatchling</th>\n",
              "      <td>0.82</td>\n",
              "    </tr>\n",
              "    <tr>\n",
              "      <th>Juvenile</th>\n",
              "      <td>3.65</td>\n",
              "    </tr>\n",
              "    <tr>\n",
              "      <th>Subadult</th>\n",
              "      <td>5.10</td>\n",
              "    </tr>\n",
              "  </tbody>\n",
              "</table>\n",
              "</div><br><label><b>dtype:</b> float64</label>"
            ]
          },
          "metadata": {},
          "execution_count": 8
        }
      ]
    },
    {
      "cell_type": "code",
      "source": [
        "data.describe()"
      ],
      "metadata": {
        "colab": {
          "base_uri": "https://localhost:8080/",
          "height": 300
        },
        "id": "OxiDGvEG_sMR",
        "outputId": "9d6993b8-02ec-4f78-bea1-6d2b07ca6b14"
      },
      "execution_count": 9,
      "outputs": [
        {
          "output_type": "execute_result",
          "data": {
            "text/plain": [
              "       Observation ID  Observed Length (m)  Observed Weight (kg)\n",
              "count     1000.000000          1000.000000           1000.000000\n",
              "mean       500.500000             2.415110            155.771900\n",
              "std        288.819436             1.097542            175.186788\n",
              "min          1.000000             0.140000              4.400000\n",
              "25%        250.750000             1.637500             53.225000\n",
              "50%        500.500000             2.430000            100.600000\n",
              "75%        750.250000             3.010000            168.875000\n",
              "max       1000.000000             6.120000           1139.700000"
            ],
            "text/html": [
              "\n",
              "  <div id=\"df-bc03ad43-35a8-48c2-92ff-5f0795b6db54\" class=\"colab-df-container\">\n",
              "    <div>\n",
              "<style scoped>\n",
              "    .dataframe tbody tr th:only-of-type {\n",
              "        vertical-align: middle;\n",
              "    }\n",
              "\n",
              "    .dataframe tbody tr th {\n",
              "        vertical-align: top;\n",
              "    }\n",
              "\n",
              "    .dataframe thead th {\n",
              "        text-align: right;\n",
              "    }\n",
              "</style>\n",
              "<table border=\"1\" class=\"dataframe\">\n",
              "  <thead>\n",
              "    <tr style=\"text-align: right;\">\n",
              "      <th></th>\n",
              "      <th>Observation ID</th>\n",
              "      <th>Observed Length (m)</th>\n",
              "      <th>Observed Weight (kg)</th>\n",
              "    </tr>\n",
              "  </thead>\n",
              "  <tbody>\n",
              "    <tr>\n",
              "      <th>count</th>\n",
              "      <td>1000.000000</td>\n",
              "      <td>1000.000000</td>\n",
              "      <td>1000.000000</td>\n",
              "    </tr>\n",
              "    <tr>\n",
              "      <th>mean</th>\n",
              "      <td>500.500000</td>\n",
              "      <td>2.415110</td>\n",
              "      <td>155.771900</td>\n",
              "    </tr>\n",
              "    <tr>\n",
              "      <th>std</th>\n",
              "      <td>288.819436</td>\n",
              "      <td>1.097542</td>\n",
              "      <td>175.186788</td>\n",
              "    </tr>\n",
              "    <tr>\n",
              "      <th>min</th>\n",
              "      <td>1.000000</td>\n",
              "      <td>0.140000</td>\n",
              "      <td>4.400000</td>\n",
              "    </tr>\n",
              "    <tr>\n",
              "      <th>25%</th>\n",
              "      <td>250.750000</td>\n",
              "      <td>1.637500</td>\n",
              "      <td>53.225000</td>\n",
              "    </tr>\n",
              "    <tr>\n",
              "      <th>50%</th>\n",
              "      <td>500.500000</td>\n",
              "      <td>2.430000</td>\n",
              "      <td>100.600000</td>\n",
              "    </tr>\n",
              "    <tr>\n",
              "      <th>75%</th>\n",
              "      <td>750.250000</td>\n",
              "      <td>3.010000</td>\n",
              "      <td>168.875000</td>\n",
              "    </tr>\n",
              "    <tr>\n",
              "      <th>max</th>\n",
              "      <td>1000.000000</td>\n",
              "      <td>6.120000</td>\n",
              "      <td>1139.700000</td>\n",
              "    </tr>\n",
              "  </tbody>\n",
              "</table>\n",
              "</div>\n",
              "    <div class=\"colab-df-buttons\">\n",
              "\n",
              "  <div class=\"colab-df-container\">\n",
              "    <button class=\"colab-df-convert\" onclick=\"convertToInteractive('df-bc03ad43-35a8-48c2-92ff-5f0795b6db54')\"\n",
              "            title=\"Convert this dataframe to an interactive table.\"\n",
              "            style=\"display:none;\">\n",
              "\n",
              "  <svg xmlns=\"http://www.w3.org/2000/svg\" height=\"24px\" viewBox=\"0 -960 960 960\">\n",
              "    <path d=\"M120-120v-720h720v720H120Zm60-500h600v-160H180v160Zm220 220h160v-160H400v160Zm0 220h160v-160H400v160ZM180-400h160v-160H180v160Zm440 0h160v-160H620v160ZM180-180h160v-160H180v160Zm440 0h160v-160H620v160Z\"/>\n",
              "  </svg>\n",
              "    </button>\n",
              "\n",
              "  <style>\n",
              "    .colab-df-container {\n",
              "      display:flex;\n",
              "      gap: 12px;\n",
              "    }\n",
              "\n",
              "    .colab-df-convert {\n",
              "      background-color: #E8F0FE;\n",
              "      border: none;\n",
              "      border-radius: 50%;\n",
              "      cursor: pointer;\n",
              "      display: none;\n",
              "      fill: #1967D2;\n",
              "      height: 32px;\n",
              "      padding: 0 0 0 0;\n",
              "      width: 32px;\n",
              "    }\n",
              "\n",
              "    .colab-df-convert:hover {\n",
              "      background-color: #E2EBFA;\n",
              "      box-shadow: 0px 1px 2px rgba(60, 64, 67, 0.3), 0px 1px 3px 1px rgba(60, 64, 67, 0.15);\n",
              "      fill: #174EA6;\n",
              "    }\n",
              "\n",
              "    .colab-df-buttons div {\n",
              "      margin-bottom: 4px;\n",
              "    }\n",
              "\n",
              "    [theme=dark] .colab-df-convert {\n",
              "      background-color: #3B4455;\n",
              "      fill: #D2E3FC;\n",
              "    }\n",
              "\n",
              "    [theme=dark] .colab-df-convert:hover {\n",
              "      background-color: #434B5C;\n",
              "      box-shadow: 0px 1px 3px 1px rgba(0, 0, 0, 0.15);\n",
              "      filter: drop-shadow(0px 1px 2px rgba(0, 0, 0, 0.3));\n",
              "      fill: #FFFFFF;\n",
              "    }\n",
              "  </style>\n",
              "\n",
              "    <script>\n",
              "      const buttonEl =\n",
              "        document.querySelector('#df-bc03ad43-35a8-48c2-92ff-5f0795b6db54 button.colab-df-convert');\n",
              "      buttonEl.style.display =\n",
              "        google.colab.kernel.accessAllowed ? 'block' : 'none';\n",
              "\n",
              "      async function convertToInteractive(key) {\n",
              "        const element = document.querySelector('#df-bc03ad43-35a8-48c2-92ff-5f0795b6db54');\n",
              "        const dataTable =\n",
              "          await google.colab.kernel.invokeFunction('convertToInteractive',\n",
              "                                                    [key], {});\n",
              "        if (!dataTable) return;\n",
              "\n",
              "        const docLinkHtml = 'Like what you see? Visit the ' +\n",
              "          '<a target=\"_blank\" href=https://colab.research.google.com/notebooks/data_table.ipynb>data table notebook</a>'\n",
              "          + ' to learn more about interactive tables.';\n",
              "        element.innerHTML = '';\n",
              "        dataTable['output_type'] = 'display_data';\n",
              "        await google.colab.output.renderOutput(dataTable, element);\n",
              "        const docLink = document.createElement('div');\n",
              "        docLink.innerHTML = docLinkHtml;\n",
              "        element.appendChild(docLink);\n",
              "      }\n",
              "    </script>\n",
              "  </div>\n",
              "\n",
              "\n",
              "    <div id=\"df-bf43667f-2c5e-443b-a4bd-b229e356e5c6\">\n",
              "      <button class=\"colab-df-quickchart\" onclick=\"quickchart('df-bf43667f-2c5e-443b-a4bd-b229e356e5c6')\"\n",
              "                title=\"Suggest charts\"\n",
              "                style=\"display:none;\">\n",
              "\n",
              "<svg xmlns=\"http://www.w3.org/2000/svg\" height=\"24px\"viewBox=\"0 0 24 24\"\n",
              "     width=\"24px\">\n",
              "    <g>\n",
              "        <path d=\"M19 3H5c-1.1 0-2 .9-2 2v14c0 1.1.9 2 2 2h14c1.1 0 2-.9 2-2V5c0-1.1-.9-2-2-2zM9 17H7v-7h2v7zm4 0h-2V7h2v10zm4 0h-2v-4h2v4z\"/>\n",
              "    </g>\n",
              "</svg>\n",
              "      </button>\n",
              "\n",
              "<style>\n",
              "  .colab-df-quickchart {\n",
              "      --bg-color: #E8F0FE;\n",
              "      --fill-color: #1967D2;\n",
              "      --hover-bg-color: #E2EBFA;\n",
              "      --hover-fill-color: #174EA6;\n",
              "      --disabled-fill-color: #AAA;\n",
              "      --disabled-bg-color: #DDD;\n",
              "  }\n",
              "\n",
              "  [theme=dark] .colab-df-quickchart {\n",
              "      --bg-color: #3B4455;\n",
              "      --fill-color: #D2E3FC;\n",
              "      --hover-bg-color: #434B5C;\n",
              "      --hover-fill-color: #FFFFFF;\n",
              "      --disabled-bg-color: #3B4455;\n",
              "      --disabled-fill-color: #666;\n",
              "  }\n",
              "\n",
              "  .colab-df-quickchart {\n",
              "    background-color: var(--bg-color);\n",
              "    border: none;\n",
              "    border-radius: 50%;\n",
              "    cursor: pointer;\n",
              "    display: none;\n",
              "    fill: var(--fill-color);\n",
              "    height: 32px;\n",
              "    padding: 0;\n",
              "    width: 32px;\n",
              "  }\n",
              "\n",
              "  .colab-df-quickchart:hover {\n",
              "    background-color: var(--hover-bg-color);\n",
              "    box-shadow: 0 1px 2px rgba(60, 64, 67, 0.3), 0 1px 3px 1px rgba(60, 64, 67, 0.15);\n",
              "    fill: var(--button-hover-fill-color);\n",
              "  }\n",
              "\n",
              "  .colab-df-quickchart-complete:disabled,\n",
              "  .colab-df-quickchart-complete:disabled:hover {\n",
              "    background-color: var(--disabled-bg-color);\n",
              "    fill: var(--disabled-fill-color);\n",
              "    box-shadow: none;\n",
              "  }\n",
              "\n",
              "  .colab-df-spinner {\n",
              "    border: 2px solid var(--fill-color);\n",
              "    border-color: transparent;\n",
              "    border-bottom-color: var(--fill-color);\n",
              "    animation:\n",
              "      spin 1s steps(1) infinite;\n",
              "  }\n",
              "\n",
              "  @keyframes spin {\n",
              "    0% {\n",
              "      border-color: transparent;\n",
              "      border-bottom-color: var(--fill-color);\n",
              "      border-left-color: var(--fill-color);\n",
              "    }\n",
              "    20% {\n",
              "      border-color: transparent;\n",
              "      border-left-color: var(--fill-color);\n",
              "      border-top-color: var(--fill-color);\n",
              "    }\n",
              "    30% {\n",
              "      border-color: transparent;\n",
              "      border-left-color: var(--fill-color);\n",
              "      border-top-color: var(--fill-color);\n",
              "      border-right-color: var(--fill-color);\n",
              "    }\n",
              "    40% {\n",
              "      border-color: transparent;\n",
              "      border-right-color: var(--fill-color);\n",
              "      border-top-color: var(--fill-color);\n",
              "    }\n",
              "    60% {\n",
              "      border-color: transparent;\n",
              "      border-right-color: var(--fill-color);\n",
              "    }\n",
              "    80% {\n",
              "      border-color: transparent;\n",
              "      border-right-color: var(--fill-color);\n",
              "      border-bottom-color: var(--fill-color);\n",
              "    }\n",
              "    90% {\n",
              "      border-color: transparent;\n",
              "      border-bottom-color: var(--fill-color);\n",
              "    }\n",
              "  }\n",
              "</style>\n",
              "\n",
              "      <script>\n",
              "        async function quickchart(key) {\n",
              "          const quickchartButtonEl =\n",
              "            document.querySelector('#' + key + ' button');\n",
              "          quickchartButtonEl.disabled = true;  // To prevent multiple clicks.\n",
              "          quickchartButtonEl.classList.add('colab-df-spinner');\n",
              "          try {\n",
              "            const charts = await google.colab.kernel.invokeFunction(\n",
              "                'suggestCharts', [key], {});\n",
              "          } catch (error) {\n",
              "            console.error('Error during call to suggestCharts:', error);\n",
              "          }\n",
              "          quickchartButtonEl.classList.remove('colab-df-spinner');\n",
              "          quickchartButtonEl.classList.add('colab-df-quickchart-complete');\n",
              "        }\n",
              "        (() => {\n",
              "          let quickchartButtonEl =\n",
              "            document.querySelector('#df-bf43667f-2c5e-443b-a4bd-b229e356e5c6 button');\n",
              "          quickchartButtonEl.style.display =\n",
              "            google.colab.kernel.accessAllowed ? 'block' : 'none';\n",
              "        })();\n",
              "      </script>\n",
              "    </div>\n",
              "\n",
              "    </div>\n",
              "  </div>\n"
            ],
            "application/vnd.google.colaboratory.intrinsic+json": {
              "type": "dataframe",
              "summary": "{\n  \"name\": \"data\",\n  \"rows\": 8,\n  \"fields\": [\n    {\n      \"column\": \"Observation ID\",\n      \"properties\": {\n        \"dtype\": \"number\",\n        \"std\": 360.1000917722167,\n        \"min\": 1.0,\n        \"max\": 1000.0,\n        \"num_unique_values\": 6,\n        \"samples\": [\n          1000.0,\n          500.5,\n          750.25\n        ],\n        \"semantic_type\": \"\",\n        \"description\": \"\"\n      }\n    },\n    {\n      \"column\": \"Observed Length (m)\",\n      \"properties\": {\n        \"dtype\": \"number\",\n        \"std\": 352.7067030724406,\n        \"min\": 0.14,\n        \"max\": 1000.0,\n        \"num_unique_values\": 8,\n        \"samples\": [\n          2.41511,\n          2.43,\n          1000.0\n        ],\n        \"semantic_type\": \"\",\n        \"description\": \"\"\n      }\n    },\n    {\n      \"column\": \"Observed Weight (kg)\",\n      \"properties\": {\n        \"dtype\": \"number\",\n        \"std\": 449.9096833513473,\n        \"min\": 4.4,\n        \"max\": 1139.7,\n        \"num_unique_values\": 8,\n        \"samples\": [\n          155.7719,\n          100.6,\n          1000.0\n        ],\n        \"semantic_type\": \"\",\n        \"description\": \"\"\n      }\n    }\n  ]\n}"
            }
          },
          "metadata": {},
          "execution_count": 9
        }
      ]
    },
    {
      "cell_type": "code",
      "source": [
        "#Calculando la desviacion estandar y los cuartiles\n",
        "data[\"Observed Length (m)\"].std()"
      ],
      "metadata": {
        "id": "4qznUqro_0Vh",
        "colab": {
          "base_uri": "https://localhost:8080/"
        },
        "outputId": "26282272-32ae-48ec-f27d-246465969ef3"
      },
      "execution_count": 10,
      "outputs": [
        {
          "output_type": "execute_result",
          "data": {
            "text/plain": [
              "1.097542248338026"
            ]
          },
          "metadata": {},
          "execution_count": 10
        }
      ]
    },
    {
      "cell_type": "code",
      "source": [
        "data[\"Observed Weight (kg)\"].std()"
      ],
      "metadata": {
        "id": "8KijMBaz_t3x",
        "colab": {
          "base_uri": "https://localhost:8080/"
        },
        "outputId": "9ef83251-7aaa-4dd8-cf24-736c4a444138"
      },
      "execution_count": 11,
      "outputs": [
        {
          "output_type": "execute_result",
          "data": {
            "text/plain": [
              "175.18678806091816"
            ]
          },
          "metadata": {},
          "execution_count": 11
        }
      ]
    },
    {
      "cell_type": "code",
      "source": [
        "robust.scale.mad(data[\"Observed Weight (kg)\"])"
      ],
      "metadata": {
        "colab": {
          "base_uri": "https://localhost:8080/"
        },
        "id": "vbV7b4M0ArOp",
        "outputId": "38e86011-3c58-4b1b-8509-3745934e718b"
      },
      "execution_count": 12,
      "outputs": [
        {
          "output_type": "execute_result",
          "data": {
            "text/plain": [
              "np.float64(81.83964246150921)"
            ]
          },
          "metadata": {},
          "execution_count": 12
        }
      ]
    },
    {
      "cell_type": "code",
      "source": [
        "#Calcular el IQR\n",
        "data[\"Observed Weight (kg)\"].quantile(0.75) - data[\"Observed Weight (kg)\"].quantile(0.25)"
      ],
      "metadata": {
        "colab": {
          "base_uri": "https://localhost:8080/"
        },
        "id": "xZPZXgE5B_13",
        "outputId": "6a5f2e08-15af-4a12-8c37-1fabf49c4ea8"
      },
      "execution_count": 14,
      "outputs": [
        {
          "output_type": "execute_result",
          "data": {
            "text/plain": [
              "np.float64(115.65)"
            ]
          },
          "metadata": {},
          "execution_count": 14
        }
      ]
    },
    {
      "cell_type": "code",
      "source": [
        "#Calcular el IQR de la tasa de asesinatos\n",
        "data[\"Observed Length (m)\"].quantile(0.75) - data[\"Observed Length (m)\"].quantile(0.25)"
      ],
      "metadata": {
        "colab": {
          "base_uri": "https://localhost:8080/"
        },
        "id": "hBZqjhC_CTBP",
        "outputId": "c6034b2b-954b-4d87-d202-24b7cd34a118"
      },
      "execution_count": 15,
      "outputs": [
        {
          "output_type": "execute_result",
          "data": {
            "text/plain": [
              "np.float64(1.3724999999999998)"
            ]
          },
          "metadata": {},
          "execution_count": 15
        }
      ]
    },
    {
      "cell_type": "code",
      "source": [
        "robust.scale.mad(data[\"Observed Length (m)\"])"
      ],
      "metadata": {
        "colab": {
          "base_uri": "https://localhost:8080/"
        },
        "id": "7WOnpGrZCXvf",
        "outputId": "d8ad7b60-99c2-4d2a-a6ca-ca08be8a4912"
      },
      "execution_count": 16,
      "outputs": [
        {
          "output_type": "execute_result",
          "data": {
            "text/plain": [
              "np.float64(0.9785174642136968)"
            ]
          },
          "metadata": {},
          "execution_count": 16
        }
      ]
    },
    {
      "cell_type": "code",
      "source": [
        "#Calcular el MAD de la tasa de asesinatos\n",
        "robust.scale.mad(data[\"Observed Length (m)\"])"
      ],
      "metadata": {
        "colab": {
          "base_uri": "https://localhost:8080/"
        },
        "id": "CRZXZQZECaqh",
        "outputId": "f08165b8-4e08-4893-fc66-2a04c6a93d96"
      },
      "execution_count": 17,
      "outputs": [
        {
          "output_type": "execute_result",
          "data": {
            "text/plain": [
              "np.float64(0.9785174642136968)"
            ]
          },
          "metadata": {},
          "execution_count": 17
        }
      ]
    },
    {
      "cell_type": "code",
      "source": [
        "data.columns"
      ],
      "metadata": {
        "colab": {
          "base_uri": "https://localhost:8080/"
        },
        "id": "cDsEY2VeDJf-",
        "outputId": "0dbf042c-fbde-41f9-f65e-57ba17b12882"
      },
      "execution_count": 18,
      "outputs": [
        {
          "output_type": "execute_result",
          "data": {
            "text/plain": [
              "Index(['Observation ID', 'Common Name', 'Scientific Name', 'Family', 'Genus',\n",
              "       'Observed Length (m)', 'Observed Weight (kg)', 'Age Class', 'Sex',\n",
              "       'Date of Observation', 'Country/Region', 'Habitat Type',\n",
              "       'Conservation Status', 'Observer Name', 'Notes'],\n",
              "      dtype='object')"
            ]
          },
          "metadata": {},
          "execution_count": 18
        }
      ]
    },
    {
      "cell_type": "code",
      "source": [
        "nuevos_nombres = {\n",
        "    'Observation ID': 'ID de Observación',\n",
        "    'Common Name': 'Nombre Común',\n",
        "    'Scientific Name': 'Nombre Científico',\n",
        "    'Family': 'Familia',\n",
        "    'Genus': 'Género',\n",
        "    'Observed Length (m)': 'Longitud Observada (m)',\n",
        "    'Observed Weight (kg)': 'Peso Observado (kg)',\n",
        "    'Age Class': 'Clase de Edad',\n",
        "    'Sex': 'Sexo',\n",
        "    'Date of Observation': 'Fecha de Observación',\n",
        "    'Country/Region': 'País/Región',\n",
        "    'Habitat Type': 'Tipo de Hábitat',\n",
        "    'Conservation Status': 'Estado de Conservación',\n",
        "    'Observer Name': 'Nombre del Observador',\n",
        "    'Notes': 'Notas'\n",
        "}\n",
        "\n",
        "# Usamos el método .rename() para aplicar los cambios\n",
        "data = data.rename(columns=nuevos_nombres)\n",
        "\n",
        "# Opcional: Imprime las nuevas columnas para verificar que el cambio se realizó\n",
        "print(\"Columnas actualizadas:\")\n",
        "print(data.columns)"
      ],
      "metadata": {
        "id": "UBaf9eo9DHYm",
        "colab": {
          "base_uri": "https://localhost:8080/"
        },
        "outputId": "63b2cfdf-b609-4e1e-e134-795befca8c33"
      },
      "execution_count": 19,
      "outputs": [
        {
          "output_type": "stream",
          "name": "stdout",
          "text": [
            "Columnas actualizadas:\n",
            "Index(['ID de Observación', 'Nombre Común', 'Nombre Científico', 'Familia',\n",
            "       'Género', 'Longitud Observada (m)', 'Peso Observado (kg)',\n",
            "       'Clase de Edad', 'Sexo', 'Fecha de Observación', 'País/Región',\n",
            "       'Tipo de Hábitat', 'Estado de Conservación', 'Nombre del Observador',\n",
            "       'Notas'],\n",
            "      dtype='object')\n"
          ]
        }
      ]
    },
    {
      "cell_type": "markdown",
      "source": [
        "4.EXPLORACION EN LA DISTRIBUCION DE DATOS\n",
        "\n",
        "4.1 Diagrama de caja (poner definicion e indicar como se lee)\n",
        "\n",
        "4.2 Diagrama de frecuencias\n",
        "\n",
        "4.3 Histograma\n",
        "\n",
        "4.4 Diagrama de densidad"
      ],
      "metadata": {
        "id": "16uVDtqVDyM9"
      }
    },
    {
      "cell_type": "markdown",
      "source": [
        "##Diagrama de Caja (Box Plot)\n",
        "Definición: Es un gráfico que representa visualmente la distribución de datos numéricos a través de sus cuartiles. Es muy útil para identificar rápidamente la mediana, la dispersión y los valores atípicos.\n",
        "\n",
        "Cómo se lee: La caja central contiene el 50% de los datos (el Rango Intercuartílico). La línea interior es la mediana. Los \"bigotes\" se extienden hasta los datos no atípicos, y los puntos fuera de ellos son considerados valores extremos.\n",
        "\n",
        "\n",
        "##Diagrama de Frecuencias\n",
        "Es un gráfico, usualmente de barras, que muestra la cantidad de veces que aparece cada categoría o valor en un conjunto de datos. Es ideal para visualizar la distribución de variables cualitativas o discretas y comparar la popularidad entre diferentes grupos.\n",
        "\n",
        "\n",
        "##Histograma\n",
        "Representa la distribución de frecuencia de datos numéricos continuos. Agrupa los datos en intervalos de igual tamaño (llamados \"bins\") y grafica una barra por cada intervalo, cuya altura indica cuántos valores caen dentro de él, revelando la forma de la distribución.\n",
        "\n",
        "##Diagrama de Densidad\n",
        "Es una versión suavizada y continua de un histograma. Representa la distribución de datos mediante una curva, lo que facilita la visualización de la forma de la distribución, especialmente picos y valles, al estimar la probabilidad de encontrar un valor.\n",
        "\n"
      ],
      "metadata": {
        "id": "eNRHRfgHIBKy"
      }
    },
    {
      "cell_type": "code",
      "source": [
        "# --- Código para el gráfico vertical ---\n",
        "plt.figure(figsize=(6, 8)) # Define el tamaño (ancho, alto)\n",
        "sns.boxplot(y=data['Longitud Observada (m)']) # La clave es usar 'y' en lugar de 'x'\n",
        "plt.title('Diagrama de Caja Vertical de Longitud Observada (m)') # Título del gráfico\n",
        "plt.ylabel('Longitud Observada (m)') # Cambiamos la etiqueta a 'ylabel'\n",
        "plt.show() # Muestra el gráfico"
      ],
      "metadata": {
        "colab": {
          "base_uri": "https://localhost:8080/",
          "height": 680
        },
        "id": "VW5SA_XNDyBl",
        "outputId": "7e7f37b6-ac07-4daf-8348-16c77495d554"
      },
      "execution_count": 41,
      "outputs": [
        {
          "output_type": "display_data",
          "data": {
            "text/plain": [
              "<Figure size 600x800 with 1 Axes>"
            ],
            "image/png": "[encoded data removed]"
          },
          "metadata": {}
        }
      ]
    },
    {
      "cell_type": "code",
      "source": [
        "# --- 4.1 Código para el Diagrama de Caja ---\n",
        "\n",
        "ax=(data[\"Peso Observado (kg)\"]).plot.box(figsize=(3,8))\n",
        "ax.set_label('Peso Observado (kg)')"
      ],
      "metadata": {
        "colab": {
          "base_uri": "https://localhost:8080/",
          "height": 676
        },
        "id": "qTEZVY86EWRF",
        "outputId": "c92bb861-dbc6-4279-b642-a7ef6475e322"
      },
      "execution_count": 28,
      "outputs": [
        {
          "output_type": "display_data",
          "data": {
            "text/plain": [
              "<Figure size 300x800 with 1 Axes>"
            ],
            "image/png": "[encoded data removed]"
          },
          "metadata": {}
        }
      ]
    },
    {
      "cell_type": "code",
      "source": [
        "#Calculo de la tabla de frecuencia e histograma\n",
        "binnedPopulation = pd.cut(data[\"Peso Observado (kg)\"],10)\n",
        "binnedPopulation.value_counts()"
      ],
      "metadata": {
        "colab": {
          "base_uri": "https://localhost:8080/",
          "height": 429
        },
        "id": "svp6kgkuGE08",
        "outputId": "f9357efe-1321-41fb-baa1-bd649024a7ee"
      },
      "execution_count": 30,
      "outputs": [
        {
          "output_type": "execute_result",
          "data": {
            "text/plain": [
              "Peso Observado (kg)\n",
              "(3.265, 117.93]      579\n",
              "(117.93, 231.46]     260\n",
              "(231.46, 344.99]      47\n",
              "(344.99, 458.52]      36\n",
              "(458.52, 572.05]      29\n",
              "(572.05, 685.58]      21\n",
              "(685.58, 799.11]      14\n",
              "(799.11, 912.64]       8\n",
              "(912.64, 1026.17]      3\n",
              "(1026.17, 1139.7]      3\n",
              "Name: count, dtype: int64"
            ],
            "text/html": [
              "<div>\n",
              "<style scoped>\n",
              "    .dataframe tbody tr th:only-of-type {\n",
              "        vertical-align: middle;\n",
              "    }\n",
              "\n",
              "    .dataframe tbody tr th {\n",
              "        vertical-align: top;\n",
              "    }\n",
              "\n",
              "    .dataframe thead th {\n",
              "        text-align: right;\n",
              "    }\n",
              "</style>\n",
              "<table border=\"1\" class=\"dataframe\">\n",
              "  <thead>\n",
              "    <tr style=\"text-align: right;\">\n",
              "      <th></th>\n",
              "      <th>count</th>\n",
              "    </tr>\n",
              "    <tr>\n",
              "      <th>Peso Observado (kg)</th>\n",
              "      <th></th>\n",
              "    </tr>\n",
              "  </thead>\n",
              "  <tbody>\n",
              "    <tr>\n",
              "      <th>(3.265, 117.93]</th>\n",
              "      <td>579</td>\n",
              "    </tr>\n",
              "    <tr>\n",
              "      <th>(117.93, 231.46]</th>\n",
              "      <td>260</td>\n",
              "    </tr>\n",
              "    <tr>\n",
              "      <th>(231.46, 344.99]</th>\n",
              "      <td>47</td>\n",
              "    </tr>\n",
              "    <tr>\n",
              "      <th>(344.99, 458.52]</th>\n",
              "      <td>36</td>\n",
              "    </tr>\n",
              "    <tr>\n",
              "      <th>(458.52, 572.05]</th>\n",
              "      <td>29</td>\n",
              "    </tr>\n",
              "    <tr>\n",
              "      <th>(572.05, 685.58]</th>\n",
              "      <td>21</td>\n",
              "    </tr>\n",
              "    <tr>\n",
              "      <th>(685.58, 799.11]</th>\n",
              "      <td>14</td>\n",
              "    </tr>\n",
              "    <tr>\n",
              "      <th>(799.11, 912.64]</th>\n",
              "      <td>8</td>\n",
              "    </tr>\n",
              "    <tr>\n",
              "      <th>(912.64, 1026.17]</th>\n",
              "      <td>3</td>\n",
              "    </tr>\n",
              "    <tr>\n",
              "      <th>(1026.17, 1139.7]</th>\n",
              "      <td>3</td>\n",
              "    </tr>\n",
              "  </tbody>\n",
              "</table>\n",
              "</div><br><label><b>dtype:</b> int64</label>"
            ]
          },
          "metadata": {},
          "execution_count": 30
        }
      ]
    },
    {
      "cell_type": "code",
      "source": [
        "ax = (data[\"Peso Observado (kg)\"]).plot.hist(figsize = (4,4))\n",
        "ax.set_label(\"Peso Observado (kg)\")\n"
      ],
      "metadata": {
        "colab": {
          "base_uri": "https://localhost:8080/",
          "height": 370
        },
        "id": "u9QbOphYDvd-",
        "outputId": "9eca65b0-697e-43ff-ac1a-a0fe02d5ebf3"
      },
      "execution_count": 44,
      "outputs": [
        {
          "output_type": "display_data",
          "data": {
            "text/plain": [
              "<Figure size 400x400 with 1 Axes>"
            ],
            "image/png": "[encoded data removed]"
          },
          "metadata": {}
        }
      ]
    },
    {
      "cell_type": "code",
      "source": [
        "#diagrama de dispersion y curva de densidad\n",
        "ax = data[\"Peso Observado (kg)\"].plot.hist(density = True, figsize = (8, 6))\n",
        "data[\"Peso Observado (kg)\"].plot.density(ax = ax)\n",
        "ax.set_xlabel(\"Peso Observado (kg)\")\n",
        "ax.set_title(\"Histograma y Curva de Densidad de Peso Observado (kg)\")"
      ],
      "metadata": {
        "colab": {
          "base_uri": "https://localhost:8080/",
          "height": 581
        },
        "id": "w4-xigqGG6ob",
        "outputId": "7882b4bc-079d-49e4-9b9a-c1d2d2f2b5c2"
      },
      "execution_count": 39,
      "outputs": [
        {
          "output_type": "execute_result",
          "data": {
            "text/plain": [
              "Text(0.5, 1.0, 'Histograma y Curva de Densidad de Peso Observado (kg)')"
            ]
          },
          "metadata": {},
          "execution_count": 39
        },
        {
          "output_type": "display_data",
          "data": {
            "text/plain": [
              "<Figure size 800x600 with 1 Axes>"
            ],
            "image/png": "[encoded data removed]"
          },
          "metadata": {}
        }
      ]
    },
    {
      "cell_type": "code",
      "source": [
        "ax = (data[\"Longitud Observada (m)\"]).plot.hist(figsize = (4,4))\n",
        "ax.set_label(\"Longitud Observada (m)\")"
      ],
      "metadata": {
        "colab": {
          "base_uri": "https://localhost:8080/",
          "height": 368
        },
        "id": "ZHKp-QR-MSt2",
        "outputId": "cc1a85d3-d052-40c0-d00a-0fa1c7e203c6"
      },
      "execution_count": 45,
      "outputs": [
        {
          "output_type": "display_data",
          "data": {
            "text/plain": [
              "<Figure size 400x400 with 1 Axes>"
            ],
            "image/png": "[encoded data removed]"
          },
          "metadata": {}
        }
      ]
    },
    {
      "cell_type": "code",
      "source": [
        "#diagrama de dispersion y curva de densidad\n",
        "ax = data[\"Longitud Observada (m)\"].plot.hist(density = True, figsize = (8, 6))\n",
        "data[\"Longitud Observada (m)\"].plot.density(ax = ax)\n",
        "ax.set_xlabel(\"Longitud Observada (m)\")\n",
        "ax.set_title(\"Histograma y Curva de Densidad de laLongitud Observada (m)\")"
      ],
      "metadata": {
        "colab": {
          "base_uri": "https://localhost:8080/",
          "height": 581
        },
        "id": "0FomamaJMS_m",
        "outputId": "13c32426-28a7-4ff8-eb92-17c5f1f33ca2"
      },
      "execution_count": 46,
      "outputs": [
        {
          "output_type": "execute_result",
          "data": {
            "text/plain": [
              "Text(0.5, 1.0, 'Histograma y Curva de Densidad de laLongitud Observada (m)')"
            ]
          },
          "metadata": {},
          "execution_count": 46
        },
        {
          "output_type": "display_data",
          "data": {
            "text/plain": [
              "<Figure size 800x600 with 1 Axes>"
            ],
            "image/png": "[encoded data removed]"
          },
          "metadata": {}
        }
      ]
    }
  ]
}